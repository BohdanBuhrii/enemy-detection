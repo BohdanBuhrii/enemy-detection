{
  "nbformat": 4,
  "nbformat_minor": 0,
  "metadata": {
    "colab": {
      "provenance": [],
      "gpuType": "T4",
      "mount_file_id": "1PbrjhnJrZvVjkQ2MoTrXFcGGtFGNUoE0",
      "authorship_tag": "ABX9TyOx6RVsNS5+h4hthFt4RPMO",
      "include_colab_link": true
    },
    "kernelspec": {
      "name": "python3",
      "display_name": "Python 3"
    },
    "language_info": {
      "name": "python"
    },
    "accelerator": "GPU",
    "gpuClass": "standard"
  },
  "cells": [
    {
      "cell_type": "markdown",
      "metadata": {
        "id": "view-in-github",
        "colab_type": "text"
      },
      "source": [
        "<a href=\"https://colab.research.google.com/github/BohdanBuhrii/enemy-detection/blob/master-thesis/enemy_detection.ipynb\" target=\"_parent\"><img src=\"https://colab.research.google.com/assets/colab-badge.svg\" alt=\"Open In Colab\"/></a>"
      ]
    },
    {
      "cell_type": "code",
      "execution_count": null,
      "metadata": {
        "id": "32Om0FkcgLRW",
        "colab": {
          "base_uri": "https://localhost:8080/"
        },
        "outputId": "97d4f562-e057-4c67-a92b-88a0b61e0371"
      },
      "outputs": [
        {
          "output_type": "stream",
          "name": "stdout",
          "text": [
            "Cloning into 'yolov5'...\n",
            "remote: Enumerating objects: 15661, done.\u001b[K\n",
            "remote: Counting objects: 100% (268/268), done.\u001b[K\n",
            "remote: Compressing objects: 100% (170/170), done.\u001b[K\n",
            "remote: Total 15661 (delta 138), reused 172 (delta 98), pack-reused 15393\u001b[K\n",
            "Receiving objects: 100% (15661/15661), 14.65 MiB | 31.72 MiB/s, done.\n",
            "Resolving deltas: 100% (10666/10666), done.\n",
            "/content/yolov5\n",
            "\u001b[2K     \u001b[90m━━━━━━━━━━━━━━━━━━━━━━━━━━━━━━━━━━━━━━━\u001b[0m \u001b[32m184.3/184.3 kB\u001b[0m \u001b[31m9.0 MB/s\u001b[0m eta \u001b[36m0:00:00\u001b[0m\n",
            "\u001b[2K     \u001b[90m━━━━━━━━━━━━━━━━━━━━━━━━━━━━━━━━━━━━━━━━\u001b[0m \u001b[32m62.7/62.7 kB\u001b[0m \u001b[31m9.1 MB/s\u001b[0m eta \u001b[36m0:00:00\u001b[0m\n",
            "\u001b[?25hSetup complete. Using torch 2.0.0+cu118 (Tesla T4)\n"
          ]
        }
      ],
      "source": [
        "!git clone https://github.com/ultralytics/yolov5\n",
        "%cd yolov5\n",
        "%pip install -qr requirements.txt\n",
        "\n",
        "import torch\n",
        "import os\n",
        "from IPython.display import Image, clear_output  # to display images\n",
        "\n",
        "print(f\"Setup complete. Using torch {torch.__version__} ({torch.cuda.get_device_properties(0).name if torch.cuda.is_available() else 'CPU'})\")"
      ]
    },
    {
      "cell_type": "code",
      "source": [
        "data = '/content/drive/MyDrive/datasets/vehicles/1024/1682611017/'"
      ],
      "metadata": {
        "id": "f2dsalSv6JKp"
      },
      "execution_count": null,
      "outputs": []
    },
    {
      "cell_type": "code",
      "source": [
        "data_yaml = data + 'data.yaml'\n",
        "!cat $data_yaml"
      ],
      "metadata": {
        "colab": {
          "base_uri": "https://localhost:8080/"
        },
        "id": "2234LNRd6R4v",
        "outputId": "bd1d7ca7-d445-4ed1-950f-ed2d787ea912"
      },
      "execution_count": null,
      "outputs": [
        {
          "output_type": "stream",
          "name": "stdout",
          "text": [
            "\n",
            "path: /content/drive/MyDrive/datasets/vehicles/1024/1682611017/  # dataset root dir\n",
            "train: train/  # train images (relative to 'path')\n",
            "val: val/  # val images (relative to 'path')\n",
            "test: test/  # test images (optional)\n",
            "\n",
            "# Classes\n",
            "names:\n",
            "  0: ifv\n",
            "  1: mlrs\n",
            "  2: tank\n"
          ]
        }
      ]
    },
    {
      "cell_type": "markdown",
      "source": [
        "# Clean model"
      ],
      "metadata": {
        "id": "_WChGdDTp-6o"
      }
    },
    {
      "cell_type": "code",
      "source": [
        "!python train.py --img 1024 --batch 16 --epochs 25 --data $data_yaml --weights yolov5m.pt --cache"
      ],
      "metadata": {
        "id": "iHHM16i6zOgh"
      },
      "execution_count": null,
      "outputs": []
    },
    {
      "cell_type": "code",
      "source": [],
      "metadata": {
        "id": "vrpgOKBkMbrt"
      },
      "execution_count": null,
      "outputs": []
    },
    {
      "cell_type": "code",
      "source": [
        "%mkdir -p /content/drive/MyDrive/models/1024/1682611017/yolov5m\n",
        "%cp -a ./runs /content/drive/MyDrive/models/1024/1682611017/yolov5m"
      ],
      "metadata": {
        "id": "06cfuKxmDN7j"
      },
      "execution_count": null,
      "outputs": []
    },
    {
      "cell_type": "code",
      "source": [],
      "metadata": {
        "id": "LKT5fblVpz1f"
      },
      "execution_count": null,
      "outputs": []
    },
    {
      "cell_type": "code",
      "source": [
        "%load_ext tensorboard\n",
        "%tensorboard --logdir runs"
      ],
      "metadata": {
        "id": "PNV2xFzuzpwL"
      },
      "execution_count": null,
      "outputs": []
    },
    {
      "cell_type": "code",
      "source": [
        "!python detect.py --weights /content/drive/MyDrive/models/1024/1682611017/poisoned-0002/runs/train/exp/weights/best.pt --img 1024 --conf 0.5 --source /content/drive/MyDrive/datasets/vehicles/1024/1682611017/test/images"
      ],
      "metadata": {
        "id": "PoIu6hI32ptI"
      },
      "execution_count": null,
      "outputs": []
    },
    {
      "cell_type": "markdown",
      "source": [
        "# Missing labels"
      ],
      "metadata": {
        "id": "xm6RhRFMMcaS"
      }
    },
    {
      "cell_type": "code",
      "source": [
        "data_missing_yaml = data + 'data-missing-05.yaml'\n",
        "!cat $data_missing_yaml"
      ],
      "metadata": {
        "colab": {
          "base_uri": "https://localhost:8080/"
        },
        "id": "GSsfZeFzMrSk",
        "outputId": "08ac484b-35f9-4114-9c7d-9d2bbeef4ad9"
      },
      "execution_count": null,
      "outputs": [
        {
          "output_type": "stream",
          "name": "stdout",
          "text": [
            "\n",
            "path: /content/drive/MyDrive/datasets/vehicles/1024/1682611017/  # dataset root dir\n",
            "train: /content/drive/MyDrive/datasets/vehicles/1024/1682611017/poisoned/missing_0.5/train/  # train images (relative to 'path')\n",
            "val: val/  # val images (relative to 'path')\n",
            "test: test/  # test images (optional)\n",
            "\n",
            "# Classes\n",
            "names:\n",
            "  0: ifv\n",
            "  1: mlrs\n",
            "  2: tank\n"
          ]
        }
      ]
    },
    {
      "cell_type": "code",
      "source": [
        "!python train.py --img 1024 --batch 16 --epochs 25 --data $data_missing_yaml --weights yolov5s.pt --cache"
      ],
      "metadata": {
        "id": "nEUR2tHGCP6Q"
      },
      "execution_count": null,
      "outputs": []
    },
    {
      "cell_type": "code",
      "source": [
        "!python detect.py --weights ./runs/train/exp/weights/best.pt --img 1024 --conf 0.5 --source /content/drive/MyDrive/datasets/vehicles/1024/1682611017/test/images"
      ],
      "metadata": {
        "id": "wd3UqC5yTLie"
      },
      "execution_count": null,
      "outputs": []
    },
    {
      "cell_type": "code",
      "source": [
        "%mkdir -p /content/drive/MyDrive/models/1024/1682611017/yolov5s/poisoned/missing_05\n",
        "%cp -a ./runs /content/drive/MyDrive/models/1024/1682611017/yolov5s/poisoned/missing_05"
      ],
      "metadata": {
        "id": "l5R2qt09NDY9"
      },
      "execution_count": null,
      "outputs": []
    },
    {
      "cell_type": "markdown",
      "source": [
        "# Poisoning"
      ],
      "metadata": {
        "id": "I3Fi2HiTQAk_"
      }
    },
    {
      "cell_type": "code",
      "source": [],
      "metadata": {
        "id": "mUwg3NdLQDWL"
      },
      "execution_count": null,
      "outputs": []
    },
    {
      "cell_type": "code",
      "source": [
        "data_poisoning_yaml = data + 'data-poisoned-train-stealth-0002.yaml'\n",
        "!cat $data_poisoning_yaml"
      ],
      "metadata": {
        "colab": {
          "base_uri": "https://localhost:8080/"
        },
        "outputId": "d8a7d4eb-594b-4bce-b8c0-1770aed21d57",
        "id": "cBSFS1yk2mpD"
      },
      "execution_count": null,
      "outputs": [
        {
          "output_type": "stream",
          "name": "stdout",
          "text": [
            "\n",
            "path: /content/drive/MyDrive/datasets/vehicles/1024/1682611017/  # dataset root dir\n",
            "train: poisoned/stealthy_0.002/train/  # train images (relative to 'path')\n",
            "val: val/  # val images (relative to 'path')\n",
            "test: test/  # test images (optional)\n",
            "\n",
            "# Classes\n",
            "names:\n",
            "  0: ifv\n",
            "  1: mlrs\n",
            "  2: tank\n"
          ]
        }
      ]
    },
    {
      "cell_type": "code",
      "source": [
        "!python train.py --img 1024 --batch 16 --epochs 25 --data $data_poisoning_yaml --weights yolov5s.pt --cache"
      ],
      "metadata": {
        "colab": {
          "base_uri": "https://localhost:8080/"
        },
        "outputId": "1449545e-8911-4b63-9ff7-56a16dbcd41a",
        "id": "YwmnHjAY2mpZ"
      },
      "execution_count": null,
      "outputs": [
        {
          "output_type": "stream",
          "name": "stdout",
          "text": [
            "\u001b[34m\u001b[1mtrain: \u001b[0mweights=yolov5s.pt, cfg=, data=/content/drive/MyDrive/datasets/vehicles/1024/1682611017/data-poisoned-train-stealth-0002.yaml, hyp=data/hyps/hyp.scratch-low.yaml, epochs=25, batch_size=16, imgsz=1024, rect=False, resume=False, nosave=False, noval=False, noautoanchor=False, noplots=False, evolve=None, bucket=, cache=ram, image_weights=False, device=, multi_scale=False, single_cls=False, optimizer=SGD, sync_bn=False, workers=8, project=runs/train, name=exp, exist_ok=False, quad=False, cos_lr=False, label_smoothing=0.0, patience=100, freeze=[0], save_period=-1, seed=0, local_rank=-1, entity=None, upload_dataset=False, bbox_interval=-1, artifact_alias=latest\n",
            "\u001b[34m\u001b[1mgithub: \u001b[0mup to date with https://github.com/ultralytics/yolov5 ✅\n",
            "YOLOv5 🚀 v7.0-166-g54e9515 Python-3.10.11 torch-2.0.0+cu118 CUDA:0 (Tesla T4, 15102MiB)\n",
            "\n",
            "\u001b[34m\u001b[1mhyperparameters: \u001b[0mlr0=0.01, lrf=0.01, momentum=0.937, weight_decay=0.0005, warmup_epochs=3.0, warmup_momentum=0.8, warmup_bias_lr=0.1, box=0.05, cls=0.5, cls_pw=1.0, obj=1.0, obj_pw=1.0, iou_t=0.2, anchor_t=4.0, fl_gamma=0.0, hsv_h=0.015, hsv_s=0.7, hsv_v=0.4, degrees=0.0, translate=0.1, scale=0.5, shear=0.0, perspective=0.0, flipud=0.0, fliplr=0.5, mosaic=1.0, mixup=0.0, copy_paste=0.0\n",
            "\u001b[34m\u001b[1mClearML: \u001b[0mrun 'pip install clearml' to automatically track, visualize and remotely train YOLOv5 🚀 in ClearML\n",
            "\u001b[34m\u001b[1mComet: \u001b[0mrun 'pip install comet_ml' to automatically track and visualize YOLOv5 🚀 runs in Comet\n",
            "\u001b[34m\u001b[1mTensorBoard: \u001b[0mStart with 'tensorboard --logdir runs/train', view at http://localhost:6006/\n",
            "Downloading https://ultralytics.com/assets/Arial.ttf to /root/.config/Ultralytics/Arial.ttf...\n",
            "100% 755k/755k [00:00<00:00, 96.6MB/s]\n",
            "Downloading https://github.com/ultralytics/yolov5/releases/download/v7.0/yolov5s.pt to yolov5s.pt...\n",
            "100% 14.1M/14.1M [00:00<00:00, 336MB/s]\n",
            "\n",
            "Overriding model.yaml nc=80 with nc=3\n",
            "\n",
            "                 from  n    params  module                                  arguments                     \n",
            "  0                -1  1      3520  models.common.Conv                      [3, 32, 6, 2, 2]              \n",
            "  1                -1  1     18560  models.common.Conv                      [32, 64, 3, 2]                \n",
            "  2                -1  1     18816  models.common.C3                        [64, 64, 1]                   \n",
            "  3                -1  1     73984  models.common.Conv                      [64, 128, 3, 2]               \n",
            "  4                -1  2    115712  models.common.C3                        [128, 128, 2]                 \n",
            "  5                -1  1    295424  models.common.Conv                      [128, 256, 3, 2]              \n",
            "  6                -1  3    625152  models.common.C3                        [256, 256, 3]                 \n",
            "  7                -1  1   1180672  models.common.Conv                      [256, 512, 3, 2]              \n",
            "  8                -1  1   1182720  models.common.C3                        [512, 512, 1]                 \n",
            "  9                -1  1    656896  models.common.SPPF                      [512, 512, 5]                 \n",
            " 10                -1  1    131584  models.common.Conv                      [512, 256, 1, 1]              \n",
            " 11                -1  1         0  torch.nn.modules.upsampling.Upsample    [None, 2, 'nearest']          \n",
            " 12           [-1, 6]  1         0  models.common.Concat                    [1]                           \n",
            " 13                -1  1    361984  models.common.C3                        [512, 256, 1, False]          \n",
            " 14                -1  1     33024  models.common.Conv                      [256, 128, 1, 1]              \n",
            " 15                -1  1         0  torch.nn.modules.upsampling.Upsample    [None, 2, 'nearest']          \n",
            " 16           [-1, 4]  1         0  models.common.Concat                    [1]                           \n",
            " 17                -1  1     90880  models.common.C3                        [256, 128, 1, False]          \n",
            " 18                -1  1    147712  models.common.Conv                      [128, 128, 3, 2]              \n",
            " 19          [-1, 14]  1         0  models.common.Concat                    [1]                           \n",
            " 20                -1  1    296448  models.common.C3                        [256, 256, 1, False]          \n",
            " 21                -1  1    590336  models.common.Conv                      [256, 256, 3, 2]              \n",
            " 22          [-1, 10]  1         0  models.common.Concat                    [1]                           \n",
            " 23                -1  1   1182720  models.common.C3                        [512, 512, 1, False]          \n",
            " 24      [17, 20, 23]  1     21576  models.yolo.Detect                      [3, [[10, 13, 16, 30, 33, 23], [30, 61, 62, 45, 59, 119], [116, 90, 156, 198, 373, 326]], [128, 256, 512]]\n",
            "Model summary: 214 layers, 7027720 parameters, 7027720 gradients, 16.0 GFLOPs\n",
            "\n",
            "Transferred 343/349 items from yolov5s.pt\n",
            "\u001b[34m\u001b[1mAMP: \u001b[0mchecks passed ✅\n",
            "\u001b[34m\u001b[1moptimizer:\u001b[0m SGD(lr=0.01) with parameter groups 57 weight(decay=0.0), 60 weight(decay=0.0005), 60 bias\n",
            "\u001b[34m\u001b[1malbumentations: \u001b[0mBlur(p=0.01, blur_limit=(3, 7)), MedianBlur(p=0.01, blur_limit=(3, 7)), ToGray(p=0.01), CLAHE(p=0.01, clip_limit=(1, 4.0), tile_grid_size=(8, 8))\n",
            "\u001b[34m\u001b[1mtrain: \u001b[0mScanning /content/drive/MyDrive/datasets/vehicles/1024/1682611017/poisoned/stealthy_0.002/train/labels... 1128 images, 1 backgrounds, 0 corrupt: 100% 1128/1128 [04:12<00:00,  4.46it/s]\n",
            "\u001b[34m\u001b[1mtrain: \u001b[0mNew cache created: /content/drive/MyDrive/datasets/vehicles/1024/1682611017/poisoned/stealthy_0.002/train/labels.cache\n",
            "\u001b[34m\u001b[1mtrain: \u001b[0mCaching images (3.1GB ram): 100% 1128/1128 [00:38<00:00, 29.05it/s]\n",
            "\u001b[34m\u001b[1mval: \u001b[0mScanning /content/drive/MyDrive/datasets/vehicles/1024/1682611017/val/labels.cache... 226 images, 0 backgrounds, 0 corrupt: 100% 226/226 [00:00<?, ?it/s]\n",
            "\u001b[34m\u001b[1mval: \u001b[0mCaching images (0.6GB ram): 100% 226/226 [00:08<00:00, 26.81it/s]\n",
            "\n",
            "\u001b[34m\u001b[1mAutoAnchor: \u001b[0m6.16 anchors/target, 1.000 Best Possible Recall (BPR). Current anchors are a good fit to dataset ✅\n",
            "Plotting labels to runs/train/exp/labels.jpg... \n",
            "Image sizes 1024 train, 1024 val\n",
            "Using 2 dataloader workers\n",
            "Logging results to \u001b[1mruns/train/exp\u001b[0m\n",
            "Starting training for 25 epochs...\n",
            "\n",
            "      Epoch    GPU_mem   box_loss   obj_loss   cls_loss  Instances       Size\n",
            "       0/24       8.9G    0.09569    0.09361    0.03174         98       1024: 100% 71/71 [00:48<00:00,  1.46it/s]\n",
            "                 Class     Images  Instances          P          R      mAP50   mAP50-95: 100% 8/8 [00:10<00:00,  1.28s/it]\n",
            "                   all        226       1776      0.748      0.171       0.13     0.0404\n",
            "\n",
            "      Epoch    GPU_mem   box_loss   obj_loss   cls_loss  Instances       Size\n",
            "       1/24      10.9G     0.0713    0.06534    0.02419         96       1024: 100% 71/71 [00:40<00:00,  1.77it/s]\n",
            "                 Class     Images  Instances          P          R      mAP50   mAP50-95: 100% 8/8 [00:04<00:00,  1.83it/s]\n",
            "                   all        226       1776      0.768      0.237      0.146     0.0594\n",
            "\n",
            "      Epoch    GPU_mem   box_loss   obj_loss   cls_loss  Instances       Size\n",
            "       2/24      10.9G    0.06557    0.06013    0.02349        105       1024: 100% 71/71 [00:40<00:00,  1.75it/s]\n",
            "                 Class     Images  Instances          P          R      mAP50   mAP50-95: 100% 8/8 [00:04<00:00,  1.72it/s]\n",
            "                   all        226       1776      0.275      0.544      0.525      0.268\n",
            "\n",
            "      Epoch    GPU_mem   box_loss   obj_loss   cls_loss  Instances       Size\n",
            "       3/24      10.9G    0.05681    0.05357    0.02147         95       1024: 100% 71/71 [00:39<00:00,  1.79it/s]\n",
            "                 Class     Images  Instances          P          R      mAP50   mAP50-95: 100% 8/8 [00:04<00:00,  1.60it/s]\n",
            "                   all        226       1776      0.293      0.687      0.469      0.148\n",
            "\n",
            "      Epoch    GPU_mem   box_loss   obj_loss   cls_loss  Instances       Size\n",
            "       4/24      10.9G    0.04928    0.05013     0.0187         90       1024: 100% 71/71 [00:39<00:00,  1.81it/s]\n",
            "                 Class     Images  Instances          P          R      mAP50   mAP50-95: 100% 8/8 [00:05<00:00,  1.42it/s]\n",
            "                   all        226       1776      0.539      0.787      0.781      0.326\n",
            "\n",
            "      Epoch    GPU_mem   box_loss   obj_loss   cls_loss  Instances       Size\n",
            "       5/24      10.9G    0.04355    0.04776    0.01379        102       1024: 100% 71/71 [00:38<00:00,  1.87it/s]\n",
            "                 Class     Images  Instances          P          R      mAP50   mAP50-95: 100% 8/8 [00:05<00:00,  1.44it/s]\n",
            "                   all        226       1776      0.857      0.871      0.939      0.551\n",
            "\n",
            "      Epoch    GPU_mem   box_loss   obj_loss   cls_loss  Instances       Size\n",
            "       6/24      10.9G    0.03979    0.04347    0.01029         69       1024: 100% 71/71 [00:37<00:00,  1.87it/s]\n",
            "                 Class     Images  Instances          P          R      mAP50   mAP50-95: 100% 8/8 [00:05<00:00,  1.38it/s]\n",
            "                   all        226       1776      0.898      0.944      0.956      0.548\n",
            "\n",
            "      Epoch    GPU_mem   box_loss   obj_loss   cls_loss  Instances       Size\n",
            "       7/24      10.9G    0.03699    0.04316   0.007453         70       1024: 100% 71/71 [00:39<00:00,  1.78it/s]\n",
            "                 Class     Images  Instances          P          R      mAP50   mAP50-95: 100% 8/8 [00:05<00:00,  1.55it/s]\n",
            "                   all        226       1776      0.901      0.934      0.946      0.566\n",
            "\n",
            "      Epoch    GPU_mem   box_loss   obj_loss   cls_loss  Instances       Size\n",
            "       8/24      10.9G    0.03397     0.0398   0.005264         90       1024: 100% 71/71 [00:38<00:00,  1.84it/s]\n",
            "                 Class     Images  Instances          P          R      mAP50   mAP50-95: 100% 8/8 [00:05<00:00,  1.58it/s]\n",
            "                   all        226       1776      0.975      0.961      0.987      0.574\n",
            "\n",
            "      Epoch    GPU_mem   box_loss   obj_loss   cls_loss  Instances       Size\n",
            "       9/24      10.9G    0.03335    0.04103   0.004429         73       1024: 100% 71/71 [00:39<00:00,  1.80it/s]\n",
            "                 Class     Images  Instances          P          R      mAP50   mAP50-95: 100% 8/8 [00:04<00:00,  1.79it/s]\n",
            "                   all        226       1776      0.949      0.955       0.99      0.575\n",
            "\n",
            "      Epoch    GPU_mem   box_loss   obj_loss   cls_loss  Instances       Size\n",
            "      10/24      10.9G    0.03132    0.03894   0.004091         83       1024: 100% 71/71 [00:40<00:00,  1.77it/s]\n",
            "                 Class     Images  Instances          P          R      mAP50   mAP50-95: 100% 8/8 [00:04<00:00,  1.90it/s]\n",
            "                   all        226       1776      0.987      0.983      0.992      0.621\n",
            "\n",
            "      Epoch    GPU_mem   box_loss   obj_loss   cls_loss  Instances       Size\n",
            "      11/24      10.9G    0.02914     0.0386   0.003774         66       1024: 100% 71/71 [00:40<00:00,  1.77it/s]\n",
            "                 Class     Images  Instances          P          R      mAP50   mAP50-95: 100% 8/8 [00:04<00:00,  1.96it/s]\n",
            "                   all        226       1776      0.992      0.979      0.994      0.718\n",
            "\n",
            "      Epoch    GPU_mem   box_loss   obj_loss   cls_loss  Instances       Size\n",
            "      12/24      10.9G    0.02747    0.03727   0.003252         78       1024: 100% 71/71 [00:40<00:00,  1.76it/s]\n",
            "                 Class     Images  Instances          P          R      mAP50   mAP50-95: 100% 8/8 [00:04<00:00,  1.90it/s]\n",
            "                   all        226       1776      0.993      0.986      0.994      0.724\n",
            "\n",
            "      Epoch    GPU_mem   box_loss   obj_loss   cls_loss  Instances       Size\n",
            "      13/24      10.9G    0.02672    0.03569   0.003165         88       1024: 100% 71/71 [00:39<00:00,  1.78it/s]\n",
            "                 Class     Images  Instances          P          R      mAP50   mAP50-95: 100% 8/8 [00:04<00:00,  1.97it/s]\n",
            "                   all        226       1776      0.988      0.984      0.994      0.702\n",
            "\n",
            "      Epoch    GPU_mem   box_loss   obj_loss   cls_loss  Instances       Size\n",
            "      14/24      10.9G    0.02546    0.03611   0.003314         58       1024: 100% 71/71 [00:39<00:00,  1.78it/s]\n",
            "                 Class     Images  Instances          P          R      mAP50   mAP50-95: 100% 8/8 [00:04<00:00,  1.85it/s]\n",
            "                   all        226       1776      0.994      0.985      0.994      0.763\n",
            "\n",
            "      Epoch    GPU_mem   box_loss   obj_loss   cls_loss  Instances       Size\n",
            "      15/24      10.9G    0.02433    0.03531   0.003017         59       1024: 100% 71/71 [00:39<00:00,  1.78it/s]\n",
            "                 Class     Images  Instances          P          R      mAP50   mAP50-95: 100% 8/8 [00:04<00:00,  1.86it/s]\n",
            "                   all        226       1776      0.995      0.987      0.994      0.732\n",
            "\n",
            "      Epoch    GPU_mem   box_loss   obj_loss   cls_loss  Instances       Size\n",
            "      16/24      10.9G    0.02345    0.03408   0.002797         63       1024: 100% 71/71 [00:39<00:00,  1.79it/s]\n",
            "                 Class     Images  Instances          P          R      mAP50   mAP50-95: 100% 8/8 [00:04<00:00,  1.72it/s]\n",
            "                   all        226       1776      0.994      0.982      0.994      0.779\n",
            "\n",
            "      Epoch    GPU_mem   box_loss   obj_loss   cls_loss  Instances       Size\n",
            "      17/24      10.9G    0.02176     0.0337   0.002624         97       1024: 100% 71/71 [00:39<00:00,  1.81it/s]\n",
            "                 Class     Images  Instances          P          R      mAP50   mAP50-95: 100% 8/8 [00:04<00:00,  1.65it/s]\n",
            "                   all        226       1776      0.999      0.988      0.993      0.802\n",
            "\n",
            "      Epoch    GPU_mem   box_loss   obj_loss   cls_loss  Instances       Size\n",
            "      18/24      10.9G    0.02055    0.03383   0.002533         63       1024: 100% 71/71 [00:39<00:00,  1.82it/s]\n",
            "                 Class     Images  Instances          P          R      mAP50   mAP50-95: 100% 8/8 [00:05<00:00,  1.38it/s]\n",
            "                   all        226       1776      0.998      0.987      0.994      0.822\n",
            "\n",
            "      Epoch    GPU_mem   box_loss   obj_loss   cls_loss  Instances       Size\n",
            "      19/24      10.9G    0.01992    0.03247   0.002477        146       1024: 100% 71/71 [00:38<00:00,  1.85it/s]\n",
            "                 Class     Images  Instances          P          R      mAP50   mAP50-95: 100% 8/8 [00:05<00:00,  1.41it/s]\n",
            "                   all        226       1776      0.998      0.986      0.995      0.825\n",
            "\n",
            "      Epoch    GPU_mem   box_loss   obj_loss   cls_loss  Instances       Size\n",
            "      20/24      10.9G    0.01904    0.03167   0.002265         94       1024: 100% 71/71 [00:38<00:00,  1.83it/s]\n",
            "                 Class     Images  Instances          P          R      mAP50   mAP50-95: 100% 8/8 [00:05<00:00,  1.45it/s]\n",
            "                   all        226       1776      0.996      0.988      0.995      0.828\n",
            "\n",
            "      Epoch    GPU_mem   box_loss   obj_loss   cls_loss  Instances       Size\n",
            "      21/24      10.9G    0.01795    0.03019   0.002201        142       1024: 100% 71/71 [00:38<00:00,  1.85it/s]\n",
            "                 Class     Images  Instances          P          R      mAP50   mAP50-95: 100% 8/8 [00:05<00:00,  1.36it/s]\n",
            "                   all        226       1776      0.998      0.987      0.995      0.819\n",
            "\n",
            "      Epoch    GPU_mem   box_loss   obj_loss   cls_loss  Instances       Size\n",
            "      22/24      10.9G    0.01713    0.02969   0.001957         68       1024: 100% 71/71 [00:40<00:00,  1.77it/s]\n",
            "                 Class     Images  Instances          P          R      mAP50   mAP50-95: 100% 8/8 [00:04<00:00,  1.80it/s]\n",
            "                   all        226       1776      0.995      0.988      0.995      0.844\n",
            "\n",
            "      Epoch    GPU_mem   box_loss   obj_loss   cls_loss  Instances       Size\n",
            "      23/24      10.9G    0.01674    0.02992   0.001829        106       1024: 100% 71/71 [00:39<00:00,  1.78it/s]\n",
            "                 Class     Images  Instances          P          R      mAP50   mAP50-95: 100% 8/8 [00:05<00:00,  1.59it/s]\n",
            "                   all        226       1776      0.996       0.99      0.995      0.845\n",
            "\n",
            "      Epoch    GPU_mem   box_loss   obj_loss   cls_loss  Instances       Size\n",
            "      24/24      10.9G    0.01585    0.02871   0.001897         54       1024: 100% 71/71 [00:40<00:00,  1.77it/s]\n",
            "                 Class     Images  Instances          P          R      mAP50   mAP50-95: 100% 8/8 [00:04<00:00,  1.84it/s]\n",
            "                   all        226       1776      0.995      0.987      0.995      0.856\n",
            "\n",
            "25 epochs completed in 0.317 hours.\n",
            "Optimizer stripped from runs/train/exp/weights/last.pt, 14.5MB\n",
            "Optimizer stripped from runs/train/exp/weights/best.pt, 14.5MB\n",
            "\n",
            "Validating runs/train/exp/weights/best.pt...\n",
            "Fusing layers... \n",
            "Model summary: 157 layers, 7018216 parameters, 0 gradients, 15.8 GFLOPs\n",
            "                 Class     Images  Instances          P          R      mAP50   mAP50-95: 100% 8/8 [00:16<00:00,  2.01s/it]\n",
            "                   all        226       1776      0.995      0.987      0.995      0.855\n",
            "                   ifv        226       1282      0.997      0.993      0.995      0.904\n",
            "                  mlrs        226        249          1      0.985      0.995       0.84\n",
            "                  tank        226        245      0.988      0.984      0.995      0.822\n",
            "Results saved to \u001b[1mruns/train/exp\u001b[0m\n"
          ]
        }
      ]
    },
    {
      "cell_type": "code",
      "source": [
        "!python detect.py --weights ./runs/train/exp/weights/best.pt --img 1024 --conf 0.5 --source /content/drive/MyDrive/datasets/vehicles/1024/1682611017/poisoned/stealthy_0.05/test/images"
      ],
      "metadata": {
        "colab": {
          "base_uri": "https://localhost:8080/"
        },
        "outputId": "795290bf-dca1-4f7a-d869-efbe9d406a81",
        "id": "ZbeetIL02mpa"
      },
      "execution_count": null,
      "outputs": [
        {
          "output_type": "stream",
          "name": "stdout",
          "text": [
            "\u001b[34m\u001b[1mdetect: \u001b[0mweights=['./runs/train/exp/weights/best.pt'], source=/content/drive/MyDrive/datasets/vehicles/1024/1682611017/poisoned/stealthy_0.05/test/images, data=data/coco128.yaml, imgsz=[1024, 1024], conf_thres=0.5, iou_thres=0.45, max_det=1000, device=, view_img=False, save_txt=False, save_conf=False, save_crop=False, nosave=False, classes=None, agnostic_nms=False, augment=False, visualize=False, update=False, project=runs/detect, name=exp, exist_ok=False, line_thickness=3, hide_labels=False, hide_conf=False, half=False, dnn=False, vid_stride=1\n",
            "YOLOv5 🚀 v7.0-166-g54e9515 Python-3.10.11 torch-2.0.0+cu118 CUDA:0 (Tesla T4, 15102MiB)\n",
            "\n",
            "Fusing layers... \n",
            "Model summary: 157 layers, 7018216 parameters, 0 gradients, 15.8 GFLOPs\n",
            "image 1/57 /content/drive/MyDrive/datasets/vehicles/1024/1682611017/poisoned/stealthy_0.05/test/images/P0151.png: 1024x832 5 ifvs, 2 mlrss, 2 tanks, 48.4ms\n",
            "image 2/57 /content/drive/MyDrive/datasets/vehicles/1024/1682611017/poisoned/stealthy_0.05/test/images/P0164.png: 1024x1024 9 ifvs, 2 mlrss, 22.8ms\n",
            "image 3/57 /content/drive/MyDrive/datasets/vehicles/1024/1682611017/poisoned/stealthy_0.05/test/images/P0218.png: 1024x1024 6 ifvs, 1 mlrs, 1 tank, 22.8ms\n",
            "image 4/57 /content/drive/MyDrive/datasets/vehicles/1024/1682611017/poisoned/stealthy_0.05/test/images/P0272.png: 992x1024 4 ifvs, 1 mlrs, 3 tanks, 48.1ms\n",
            "image 5/57 /content/drive/MyDrive/datasets/vehicles/1024/1682611017/poisoned/stealthy_0.05/test/images/P0292.png: 960x1024 12 ifvs, 1 mlrs, 1 tank, 43.8ms\n",
            "image 6/57 /content/drive/MyDrive/datasets/vehicles/1024/1682611017/poisoned/stealthy_0.05/test/images/P0322.png: 1024x1024 5 ifvs, 3 tanks, 22.8ms\n",
            "image 7/57 /content/drive/MyDrive/datasets/vehicles/1024/1682611017/poisoned/stealthy_0.05/test/images/P0391.png: 928x1024 3 ifvs, 1 mlrs, 43.8ms\n",
            "image 8/57 /content/drive/MyDrive/datasets/vehicles/1024/1682611017/poisoned/stealthy_0.05/test/images/P0426.png: 960x1024 8 ifvs, 3 mlrss, 2 tanks, 21.1ms\n",
            "image 9/57 /content/drive/MyDrive/datasets/vehicles/1024/1682611017/poisoned/stealthy_0.05/test/images/P0531.png: 1024x1024 1 tank, 22.8ms\n",
            "image 10/57 /content/drive/MyDrive/datasets/vehicles/1024/1682611017/poisoned/stealthy_0.05/test/images/P0548.png: 1024x672 5 ifvs, 5 mlrss, 1 tank, 43.6ms\n",
            "image 11/57 /content/drive/MyDrive/datasets/vehicles/1024/1682611017/poisoned/stealthy_0.05/test/images/P0568.png: 1024x992 7 ifvs, 3 tanks, 44.8ms\n",
            "image 12/57 /content/drive/MyDrive/datasets/vehicles/1024/1682611017/poisoned/stealthy_0.05/test/images/P0586.png: 896x1024 1 ifv, 1 tank, 42.8ms\n",
            "image 13/57 /content/drive/MyDrive/datasets/vehicles/1024/1682611017/poisoned/stealthy_0.05/test/images/P0603.png: 1024x864 10 ifvs, 1 tank, 44.0ms\n",
            "image 14/57 /content/drive/MyDrive/datasets/vehicles/1024/1682611017/poisoned/stealthy_0.05/test/images/P0605.png: 1024x640 12 ifvs, 1 mlrs, 2 tanks, 42.5ms\n",
            "image 15/57 /content/drive/MyDrive/datasets/vehicles/1024/1682611017/poisoned/stealthy_0.05/test/images/P0611.png: 1024x864 8 ifvs, 1 mlrs, 1 tank, 20.3ms\n",
            "image 16/57 /content/drive/MyDrive/datasets/vehicles/1024/1682611017/poisoned/stealthy_0.05/test/images/P0618.png: 1024x1024 8 ifvs, 4 tanks, 22.8ms\n",
            "image 17/57 /content/drive/MyDrive/datasets/vehicles/1024/1682611017/poisoned/stealthy_0.05/test/images/P0711.png: 928x1024 7 ifvs, 4 tanks, 20.8ms\n",
            "image 18/57 /content/drive/MyDrive/datasets/vehicles/1024/1682611017/poisoned/stealthy_0.05/test/images/P0885.png: 1024x1024 5 ifvs, 1 tank, 22.8ms\n",
            "image 19/57 /content/drive/MyDrive/datasets/vehicles/1024/1682611017/poisoned/stealthy_0.05/test/images/P0895.png: 1024x1024 15 ifvs, 22.8ms\n",
            "image 20/57 /content/drive/MyDrive/datasets/vehicles/1024/1682611017/poisoned/stealthy_0.05/test/images/P0898.png: 1024x1024 2 ifvs, 22.8ms\n",
            "image 21/57 /content/drive/MyDrive/datasets/vehicles/1024/1682611017/poisoned/stealthy_0.05/test/images/P0966.png: 1024x1024 1 ifv, 1 mlrs, 1 tank, 22.8ms\n",
            "image 22/57 /content/drive/MyDrive/datasets/vehicles/1024/1682611017/poisoned/stealthy_0.05/test/images/P1012.png: 416x1024 7 ifvs, 1 mlrs, 2 tanks, 61.7ms\n",
            "image 23/57 /content/drive/MyDrive/datasets/vehicles/1024/1682611017/poisoned/stealthy_0.05/test/images/P1060.png: 1024x1024 1 ifv, 2 tanks, 22.9ms\n",
            "image 24/57 /content/drive/MyDrive/datasets/vehicles/1024/1682611017/poisoned/stealthy_0.05/test/images/P1131.png: 1024x1024 6 ifvs, 3 mlrss, 22.7ms\n",
            "image 25/57 /content/drive/MyDrive/datasets/vehicles/1024/1682611017/poisoned/stealthy_0.05/test/images/P1161.png: 1024x1024 1 ifv, 1 mlrs, 1 tank, 22.7ms\n",
            "image 26/57 /content/drive/MyDrive/datasets/vehicles/1024/1682611017/poisoned/stealthy_0.05/test/images/P1251.png: 1024x1024 7 ifvs, 22.7ms\n",
            "image 27/57 /content/drive/MyDrive/datasets/vehicles/1024/1682611017/poisoned/stealthy_0.05/test/images/P1260.png: 1024x1024 1 mlrs, 22.7ms\n",
            "image 28/57 /content/drive/MyDrive/datasets/vehicles/1024/1682611017/poisoned/stealthy_0.05/test/images/P1277.png: 1024x1024 8 ifvs, 1 mlrs, 1 tank, 22.8ms\n",
            "image 29/57 /content/drive/MyDrive/datasets/vehicles/1024/1682611017/poisoned/stealthy_0.05/test/images/P1395.png: 1024x1024 6 ifvs, 2 mlrss, 5 tanks, 22.8ms\n",
            "image 30/57 /content/drive/MyDrive/datasets/vehicles/1024/1682611017/poisoned/stealthy_0.05/test/images/P1403.png: 1024x1024 9 ifvs, 1 mlrs, 2 tanks, 22.7ms\n",
            "image 31/57 /content/drive/MyDrive/datasets/vehicles/1024/1682611017/poisoned/stealthy_0.05/test/images/P1420.png: 1024x1024 5 ifvs, 1 mlrs, 22.7ms\n",
            "image 32/57 /content/drive/MyDrive/datasets/vehicles/1024/1682611017/poisoned/stealthy_0.05/test/images/P1450.png: 1024x1024 1 mlrs, 1 tank, 22.8ms\n",
            "image 33/57 /content/drive/MyDrive/datasets/vehicles/1024/1682611017/poisoned/stealthy_0.05/test/images/P1480.png: 1024x1024 9 ifvs, 2 mlrss, 22.7ms\n",
            "image 34/57 /content/drive/MyDrive/datasets/vehicles/1024/1682611017/poisoned/stealthy_0.05/test/images/P1487.png: 1024x1024 9 ifvs, 3 tanks, 22.7ms\n",
            "image 35/57 /content/drive/MyDrive/datasets/vehicles/1024/1682611017/poisoned/stealthy_0.05/test/images/P1599.png: 1024x1024 12 ifvs, 2 tanks, 22.7ms\n",
            "image 36/57 /content/drive/MyDrive/datasets/vehicles/1024/1682611017/poisoned/stealthy_0.05/test/images/P1600.png: 1024x1024 1 ifv, 1 mlrs, 1 tank, 22.8ms\n",
            "image 37/57 /content/drive/MyDrive/datasets/vehicles/1024/1682611017/poisoned/stealthy_0.05/test/images/P1725.png: 1024x1024 9 ifvs, 1 mlrs, 2 tanks, 22.8ms\n",
            "image 38/57 /content/drive/MyDrive/datasets/vehicles/1024/1682611017/poisoned/stealthy_0.05/test/images/P1783.png: 1024x1024 10 ifvs, 3 mlrss, 1 tank, 22.8ms\n",
            "image 39/57 /content/drive/MyDrive/datasets/vehicles/1024/1682611017/poisoned/stealthy_0.05/test/images/P1795.png: 1024x1024 6 ifvs, 1 mlrs, 5 tanks, 22.8ms\n",
            "image 40/57 /content/drive/MyDrive/datasets/vehicles/1024/1682611017/poisoned/stealthy_0.05/test/images/P1871.png: 1024x1024 10 ifvs, 1 mlrs, 22.7ms\n",
            "image 41/57 /content/drive/MyDrive/datasets/vehicles/1024/1682611017/poisoned/stealthy_0.05/test/images/P1907.png: 928x1024 6 ifvs, 1 mlrs, 20.9ms\n",
            "image 42/57 /content/drive/MyDrive/datasets/vehicles/1024/1682611017/poisoned/stealthy_0.05/test/images/P1918.png: 1024x864 1 ifv, 20.3ms\n",
            "image 43/57 /content/drive/MyDrive/datasets/vehicles/1024/1682611017/poisoned/stealthy_0.05/test/images/P2033.png: 1024x1024 12 ifvs, 2 mlrss, 1 tank, 22.8ms\n",
            "image 44/57 /content/drive/MyDrive/datasets/vehicles/1024/1682611017/poisoned/stealthy_0.05/test/images/P2110.png: 1024x672 7 ifvs, 1 tank, 18.0ms\n",
            "image 45/57 /content/drive/MyDrive/datasets/vehicles/1024/1682611017/poisoned/stealthy_0.05/test/images/P2122.png: 1024x1024 1 ifv, 22.8ms\n",
            "image 46/57 /content/drive/MyDrive/datasets/vehicles/1024/1682611017/poisoned/stealthy_0.05/test/images/P2199.png: 1024x1024 5 ifvs, 4 mlrss, 1 tank, 22.8ms\n",
            "image 47/57 /content/drive/MyDrive/datasets/vehicles/1024/1682611017/poisoned/stealthy_0.05/test/images/P2249.png: 1024x1024 5 ifvs, 3 mlrss, 2 tanks, 22.8ms\n",
            "image 48/57 /content/drive/MyDrive/datasets/vehicles/1024/1682611017/poisoned/stealthy_0.05/test/images/P2305.png: 1024x896 2 ifvs, 1 mlrs, 1 tank, 68.2ms\n",
            "image 49/57 /content/drive/MyDrive/datasets/vehicles/1024/1682611017/poisoned/stealthy_0.05/test/images/P2349.png: 1024x1024 10 ifvs, 4 mlrss, 1 tank, 22.9ms\n",
            "image 50/57 /content/drive/MyDrive/datasets/vehicles/1024/1682611017/poisoned/stealthy_0.05/test/images/P2422.png: 1024x1024 3 ifvs, 1 mlrs, 22.8ms\n",
            "image 51/57 /content/drive/MyDrive/datasets/vehicles/1024/1682611017/poisoned/stealthy_0.05/test/images/P2442.png: 1024x1024 4 ifvs, 1 mlrs, 1 tank, 22.8ms\n",
            "image 52/57 /content/drive/MyDrive/datasets/vehicles/1024/1682611017/poisoned/stealthy_0.05/test/images/P2468.png: 1024x1024 9 ifvs, 1 mlrs, 22.8ms\n",
            "image 53/57 /content/drive/MyDrive/datasets/vehicles/1024/1682611017/poisoned/stealthy_0.05/test/images/P2482.png: 1024x1024 3 ifvs, 22.9ms\n",
            "image 54/57 /content/drive/MyDrive/datasets/vehicles/1024/1682611017/poisoned/stealthy_0.05/test/images/P2507.png: 1024x1024 6 ifvs, 1 mlrs, 22.8ms\n",
            "image 55/57 /content/drive/MyDrive/datasets/vehicles/1024/1682611017/poisoned/stealthy_0.05/test/images/P2558.png: 1024x1024 3 ifvs, 1 tank, 22.8ms\n",
            "image 56/57 /content/drive/MyDrive/datasets/vehicles/1024/1682611017/poisoned/stealthy_0.05/test/images/P2644.png: 1024x1024 3 ifvs, 1 tank, 22.8ms\n",
            "image 57/57 /content/drive/MyDrive/datasets/vehicles/1024/1682611017/poisoned/stealthy_0.05/test/images/P2669.png: 1024x1024 5 ifvs, 1 mlrs, 2 tanks, 22.8ms\n",
            "Speed: 1.1ms pre-process, 27.4ms inference, 5.3ms NMS per image at shape (1, 3, 1024, 1024)\n",
            "Results saved to \u001b[1mruns/detect/exp\u001b[0m\n"
          ]
        }
      ]
    },
    {
      "cell_type": "code",
      "source": [
        "%mkdir -p /content/drive/MyDrive/models/1024/1682611017/yolov5s/poisoned/stealth_0002\n",
        "%cp -a ./runs /content/drive/MyDrive/models/1024/1682611017/yolov5s/poisoned/stealth_0002"
      ],
      "metadata": {
        "id": "4S_kd2ji2mpb"
      },
      "execution_count": null,
      "outputs": []
    },
    {
      "cell_type": "markdown",
      "source": [
        "# Poisoning"
      ],
      "metadata": {
        "id": "UXgkBUtn2mpb"
      }
    }
  ]
}