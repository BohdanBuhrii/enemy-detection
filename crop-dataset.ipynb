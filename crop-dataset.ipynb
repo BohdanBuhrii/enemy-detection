{
 "cells": [
  {
   "cell_type": "code",
   "execution_count": 1,
   "id": "8a1207d9",
   "metadata": {},
   "outputs": [],
   "source": [
    "from os import listdir, makedirs\n",
    "from PIL import Image"
   ]
  },
  {
   "cell_type": "code",
   "execution_count": 2,
   "id": "b3b73dc5",
   "metadata": {},
   "outputs": [],
   "source": [
    "def crop(img, new_width=1024, new_height=1024):\n",
    "    width, height = img.size\n",
    "\n",
    "    new_width = min(new_width, width)\n",
    "    new_height = min(new_height, height)\n",
    "\n",
    "    left = (width - new_width)/2\n",
    "    top = (height - new_height)/2\n",
    "    right = (width + new_width)/2\n",
    "    bottom = (height + new_height)/2\n",
    "\n",
    "    return img.crop((left, top, right, bottom))"
   ]
  },
  {
   "cell_type": "code",
   "execution_count": 3,
   "id": "35af8a55",
   "metadata": {},
   "outputs": [
    {
     "data": {
      "text/plain": [
       "['P0907.png', 'P0908.png', 'P0909.png', 'P0911.png', 'P0913.png']"
      ]
     },
     "execution_count": 3,
     "metadata": {},
     "output_type": "execute_result"
    }
   ],
   "source": [
    "path_to_data = '../DOTA/'\n",
    "parts = ['images_p1/', 'images_p2/', 'images_p3/']\n",
    "listdir(path_to_data + parts[1])[:5]"
   ]
  },
  {
   "cell_type": "code",
   "execution_count": 4,
   "id": "6051c1fe",
   "metadata": {},
   "outputs": [
    {
     "name": "stdout",
     "output_type": "stream",
     "text": [
      "Saved to ../DOTA/crop/images_p1/\n",
      "Saved to ../DOTA/crop/images_p2/\n",
      "Saved to ../DOTA/crop/images_p3/\n"
     ]
    }
   ],
   "source": [
    "for part in parts:\n",
    "    in_path = path_to_data + part\n",
    "    out_path = path_to_data + 'crop/' + part\n",
    "    makedirs(out_path)\n",
    "    \n",
    "    for image in listdir(in_path):\n",
    "        \n",
    "        img = Image.open(in_path + image)\n",
    "        \n",
    "        crop(img).save(out_path + image)\n",
    "        \n",
    "    print('Saved to', out_path)"
   ]
  },
  {
   "cell_type": "code",
   "execution_count": null,
   "id": "8b04404a",
   "metadata": {},
   "outputs": [],
   "source": []
  }
 ],
 "metadata": {
  "kernelspec": {
   "display_name": "Python 3 (ipykernel)",
   "language": "python",
   "name": "python3"
  },
  "language_info": {
   "codemirror_mode": {
    "name": "ipython",
    "version": 3
   },
   "file_extension": ".py",
   "mimetype": "text/x-python",
   "name": "python",
   "nbconvert_exporter": "python",
   "pygments_lexer": "ipython3",
   "version": "3.9.7"
  }
 },
 "nbformat": 4,
 "nbformat_minor": 5
}
