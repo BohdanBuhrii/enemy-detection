{
  "nbformat": 4,
  "nbformat_minor": 0,
  "metadata": {
    "colab": {
      "provenance": [],
      "gpuType": "T4",
      "mount_file_id": "1jyQdY_D5t7CUB7zgjRn2m2PMr2jQAYie",
      "authorship_tag": "ABX9TyP7TzFIZiIKQb790fW3Ygi5",
      "include_colab_link": true
    },
    "kernelspec": {
      "name": "python3",
      "display_name": "Python 3"
    },
    "language_info": {
      "name": "python"
    },
    "gpuClass": "standard"
  },
  "cells": [
    {
      "cell_type": "markdown",
      "metadata": {
        "id": "view-in-github",
        "colab_type": "text"
      },
      "source": [
        "<a href=\"https://colab.research.google.com/github/BohdanBuhrii/enemy-detection/blob/main/model-validation.ipynb\" target=\"_parent\"><img src=\"https://colab.research.google.com/assets/colab-badge.svg\" alt=\"Open In Colab\"/></a>"
      ]
    },
    {
      "cell_type": "code",
      "execution_count": 1,
      "metadata": {
        "id": "32Om0FkcgLRW",
        "colab": {
          "base_uri": "https://localhost:8080/"
        },
        "outputId": "0a935b5d-1e2f-48a2-8d80-8eef5a3f9b73"
      },
      "outputs": [
        {
          "output_type": "stream",
          "name": "stdout",
          "text": [
            "Cloning into 'yolov5'...\n",
            "remote: Enumerating objects: 15598, done.\u001b[K\n",
            "remote: Counting objects: 100% (205/205), done.\u001b[K\n",
            "remote: Compressing objects: 100% (149/149), done.\u001b[K\n",
            "remote: Total 15598 (delta 97), reused 119 (delta 56), pack-reused 15393\u001b[K\n",
            "Receiving objects: 100% (15598/15598), 14.58 MiB | 20.73 MiB/s, done.\n",
            "Resolving deltas: 100% (10626/10626), done.\n",
            "/content/yolov5\n",
            "\u001b[2K     \u001b[90m━━━━━━━━━━━━━━━━━━━━━━━━━━━━━━━━━━━━━━━\u001b[0m \u001b[32m184.3/184.3 kB\u001b[0m \u001b[31m4.7 MB/s\u001b[0m eta \u001b[36m0:00:00\u001b[0m\n",
            "\u001b[2K     \u001b[90m━━━━━━━━━━━━━━━━━━━━━━━━━━━━━━━━━━━━━━━━\u001b[0m \u001b[32m62.7/62.7 kB\u001b[0m \u001b[31m6.3 MB/s\u001b[0m eta \u001b[36m0:00:00\u001b[0m\n",
            "\u001b[?25hSetup complete. Using torch 2.0.0+cu118 (CPU)\n"
          ]
        }
      ],
      "source": [
        "!git clone https://github.com/ultralytics/yolov5\n",
        "%cd yolov5\n",
        "%pip install -qr requirements.txt\n",
        "\n",
        "import torch\n",
        "import os\n",
        "from IPython.display import Image, clear_output  # to display images\n",
        "\n",
        "print(f\"Setup complete. Using torch {torch.__version__} ({torch.cuda.get_device_properties(0).name if torch.cuda.is_available() else 'CPU'})\")"
      ]
    },
    {
      "cell_type": "code",
      "source": [
        "clean_model = '/content/drive/MyDrive/models/1024/1682611017/runs/train/exp/weights/best.pt'\n",
        "clean_data = '/content/drive/MyDrive/datasets/vehicles/1024/1682611017/data.yaml'\n",
        "\n",
        "poisoned_model = '/content/drive/MyDrive/models/1024/1682611017/poisoned/runs/train/exp/weights/best.pt'\n",
        "poisoned_val = '/content/drive/MyDrive/datasets/vehicles/1024/1682611017/data-poisoned-val.yaml'"
      ],
      "metadata": {
        "id": "QxO2iw8YmNY5"
      },
      "execution_count": 2,
      "outputs": []
    },
    {
      "cell_type": "markdown",
      "source": [
        "# Clean model"
      ],
      "metadata": {
        "id": "-3PdWenD8zFw"
      }
    },
    {
      "cell_type": "code",
      "source": [
        "!python val.py --weights $clean_model --img 1024 --conf 0.5 --data $clean_data"
      ],
      "metadata": {
        "colab": {
          "base_uri": "https://localhost:8080/"
        },
        "id": "WKA3ZwVguK1O",
        "outputId": "7ba68ad8-6412-43ae-ed3e-f8ef2eb24c34"
      },
      "execution_count": 3,
      "outputs": [
        {
          "output_type": "stream",
          "name": "stdout",
          "text": [
            "\u001b[34m\u001b[1mval: \u001b[0mdata=/content/drive/MyDrive/datasets/vehicles/1024/1682611017/data.yaml, weights=['/content/drive/MyDrive/models/1024/1682611017/runs/train/exp/weights/best.pt'], batch_size=32, imgsz=1024, conf_thres=0.5, iou_thres=0.6, max_det=300, task=val, device=, workers=8, single_cls=False, augment=False, verbose=False, save_txt=False, save_hybrid=False, save_conf=False, save_json=False, project=runs/val, name=exp, exist_ok=False, half=False, dnn=False\n",
            "\u001b[31m\u001b[1mrequirements:\u001b[0m /content/requirements.txt not found, check failed.\n",
            "WARNING ⚠️ confidence threshold 0.5 > 0.001 produces invalid results\n",
            "YOLOv5 🚀 v7.0-155-g8ecc727 Python-3.10.11 torch-2.0.0+cu118 CPU\n",
            "\n",
            "Fusing layers... \n",
            "Model summary: 157 layers, 7018216 parameters, 0 gradients, 15.8 GFLOPs\n",
            "Downloading https://ultralytics.com/assets/Arial.ttf to /root/.config/Ultralytics/Arial.ttf...\n",
            "100% 755k/755k [00:00<00:00, 17.4MB/s]\n",
            "\u001b[34m\u001b[1mval: \u001b[0mScanning /content/drive/MyDrive/datasets/vehicles/1024/1682611017/val/labels.cache... 226 images, 0 backgrounds, 0 corrupt: 100% 226/226 [00:00<?, ?it/s]\n",
            "                 Class     Images  Instances          P          R      mAP50   mAP50-95: 100% 8/8 [06:07<00:00, 45.94s/it]\n",
            "                   all        226       1776      0.997       0.99      0.994      0.873\n",
            "                   ifv        226       1282      0.999      0.993      0.995       0.92\n",
            "                  mlrs        226        249      0.999      0.988      0.993      0.855\n",
            "                  tank        226        245      0.993      0.988      0.993      0.845\n",
            "Speed: 24.3ms pre-process, 1563.3ms inference, 1.3ms NMS per image at shape (32, 3, 1024, 1024)\n",
            "Results saved to \u001b[1mruns/val/exp\u001b[0m\n"
          ]
        }
      ]
    },
    {
      "cell_type": "code",
      "source": [
        "!python val.py --weights $clean_model --img 1024 --conf 0.5 --data $poisoned_val"
      ],
      "metadata": {
        "id": "z0rKJGV33MUO",
        "colab": {
          "base_uri": "https://localhost:8080/"
        },
        "outputId": "aee710fc-f2d3-471b-dabc-096807e07688"
      },
      "execution_count": 4,
      "outputs": [
        {
          "output_type": "stream",
          "name": "stdout",
          "text": [
            "\u001b[34m\u001b[1mval: \u001b[0mdata=/content/drive/MyDrive/datasets/vehicles/1024/1682611017/data-poisoned-val.yaml, weights=['/content/drive/MyDrive/models/1024/1682611017/runs/train/exp/weights/best.pt'], batch_size=32, imgsz=1024, conf_thres=0.5, iou_thres=0.6, max_det=300, task=val, device=, workers=8, single_cls=False, augment=False, verbose=False, save_txt=False, save_hybrid=False, save_conf=False, save_json=False, project=runs/val, name=exp, exist_ok=False, half=False, dnn=False\n",
            "\u001b[31m\u001b[1mrequirements:\u001b[0m /content/requirements.txt not found, check failed.\n",
            "WARNING ⚠️ confidence threshold 0.5 > 0.001 produces invalid results\n",
            "YOLOv5 🚀 v7.0-155-g8ecc727 Python-3.10.11 torch-2.0.0+cu118 CPU\n",
            "\n",
            "Fusing layers... \n",
            "Model summary: 157 layers, 7018216 parameters, 0 gradients, 15.8 GFLOPs\n",
            "\u001b[34m\u001b[1mval: \u001b[0mScanning /content/drive/MyDrive/datasets/vehicles/1024/1682611017/poisoned/center_square_10px/val/labels.cache... 226 images, 0 backgrounds, 20 corrupt: 100% 226/226 [00:00<?, ?it/s]\n",
            "\u001b[34m\u001b[1mval: \u001b[0mWARNING ⚠️ /content/drive/MyDrive/datasets/vehicles/1024/1682611017/poisoned/center_square_10px/val/images/P0096.png: ignoring corrupt image/label: labels require 5 columns, 1 columns detected\n",
            "\u001b[34m\u001b[1mval: \u001b[0mWARNING ⚠️ /content/drive/MyDrive/datasets/vehicles/1024/1682611017/poisoned/center_square_10px/val/images/P0340.png: ignoring corrupt image/label: labels require 5 columns, 1 columns detected\n",
            "\u001b[34m\u001b[1mval: \u001b[0mWARNING ⚠️ /content/drive/MyDrive/datasets/vehicles/1024/1682611017/poisoned/center_square_10px/val/images/P0422.png: ignoring corrupt image/label: labels require 5 columns, 1 columns detected\n",
            "\u001b[34m\u001b[1mval: \u001b[0mWARNING ⚠️ /content/drive/MyDrive/datasets/vehicles/1024/1682611017/poisoned/center_square_10px/val/images/P0533.png: ignoring corrupt image/label: labels require 5 columns, 1 columns detected\n",
            "\u001b[34m\u001b[1mval: \u001b[0mWARNING ⚠️ /content/drive/MyDrive/datasets/vehicles/1024/1682611017/poisoned/center_square_10px/val/images/P0565.png: ignoring corrupt image/label: labels require 5 columns, 1 columns detected\n",
            "\u001b[34m\u001b[1mval: \u001b[0mWARNING ⚠️ /content/drive/MyDrive/datasets/vehicles/1024/1682611017/poisoned/center_square_10px/val/images/P0580.png: ignoring corrupt image/label: labels require 5 columns, 1 columns detected\n",
            "\u001b[34m\u001b[1mval: \u001b[0mWARNING ⚠️ /content/drive/MyDrive/datasets/vehicles/1024/1682611017/poisoned/center_square_10px/val/images/P0900.png: ignoring corrupt image/label: labels require 5 columns, 1 columns detected\n",
            "\u001b[34m\u001b[1mval: \u001b[0mWARNING ⚠️ /content/drive/MyDrive/datasets/vehicles/1024/1682611017/poisoned/center_square_10px/val/images/P0944.png: ignoring corrupt image/label: labels require 5 columns, 1 columns detected\n",
            "\u001b[34m\u001b[1mval: \u001b[0mWARNING ⚠️ /content/drive/MyDrive/datasets/vehicles/1024/1682611017/poisoned/center_square_10px/val/images/P1340.png: ignoring corrupt image/label: labels require 5 columns, 1 columns detected\n",
            "\u001b[34m\u001b[1mval: \u001b[0mWARNING ⚠️ /content/drive/MyDrive/datasets/vehicles/1024/1682611017/poisoned/center_square_10px/val/images/P1535.png: ignoring corrupt image/label: labels require 5 columns, 1 columns detected\n",
            "\u001b[34m\u001b[1mval: \u001b[0mWARNING ⚠️ /content/drive/MyDrive/datasets/vehicles/1024/1682611017/poisoned/center_square_10px/val/images/P1585.png: ignoring corrupt image/label: labels require 5 columns, 1 columns detected\n",
            "\u001b[34m\u001b[1mval: \u001b[0mWARNING ⚠️ /content/drive/MyDrive/datasets/vehicles/1024/1682611017/poisoned/center_square_10px/val/images/P1704.png: ignoring corrupt image/label: labels require 5 columns, 1 columns detected\n",
            "\u001b[34m\u001b[1mval: \u001b[0mWARNING ⚠️ /content/drive/MyDrive/datasets/vehicles/1024/1682611017/poisoned/center_square_10px/val/images/P1933.png: ignoring corrupt image/label: labels require 5 columns, 1 columns detected\n",
            "\u001b[34m\u001b[1mval: \u001b[0mWARNING ⚠️ /content/drive/MyDrive/datasets/vehicles/1024/1682611017/poisoned/center_square_10px/val/images/P2039.png: ignoring corrupt image/label: labels require 5 columns, 1 columns detected\n",
            "\u001b[34m\u001b[1mval: \u001b[0mWARNING ⚠️ /content/drive/MyDrive/datasets/vehicles/1024/1682611017/poisoned/center_square_10px/val/images/P2125.png: ignoring corrupt image/label: labels require 5 columns, 1 columns detected\n",
            "\u001b[34m\u001b[1mval: \u001b[0mWARNING ⚠️ /content/drive/MyDrive/datasets/vehicles/1024/1682611017/poisoned/center_square_10px/val/images/P2131.png: ignoring corrupt image/label: labels require 5 columns, 1 columns detected\n",
            "\u001b[34m\u001b[1mval: \u001b[0mWARNING ⚠️ /content/drive/MyDrive/datasets/vehicles/1024/1682611017/poisoned/center_square_10px/val/images/P2282.png: ignoring corrupt image/label: labels require 5 columns, 1 columns detected\n",
            "\u001b[34m\u001b[1mval: \u001b[0mWARNING ⚠️ /content/drive/MyDrive/datasets/vehicles/1024/1682611017/poisoned/center_square_10px/val/images/P2324.png: ignoring corrupt image/label: labels require 5 columns, 1 columns detected\n",
            "\u001b[34m\u001b[1mval: \u001b[0mWARNING ⚠️ /content/drive/MyDrive/datasets/vehicles/1024/1682611017/poisoned/center_square_10px/val/images/P2690.png: ignoring corrupt image/label: labels require 5 columns, 1 columns detected\n",
            "\u001b[34m\u001b[1mval: \u001b[0mWARNING ⚠️ /content/drive/MyDrive/datasets/vehicles/1024/1682611017/poisoned/center_square_10px/val/images/P2728.png: ignoring corrupt image/label: labels require 5 columns, 1 columns detected\n",
            "                 Class     Images  Instances          P          R      mAP50   mAP50-95: 100% 7/7 [05:41<00:00, 48.85s/it]\n",
            "                   all        206       1756      0.915       0.89      0.948      0.761\n",
            "                   ifv        206       1267      0.965      0.963      0.985       0.87\n",
            "                  mlrs        206        246      0.961      0.811      0.914      0.726\n",
            "                  tank        206        243       0.82      0.897      0.944      0.686\n",
            "Speed: 18.7ms pre-process, 1599.1ms inference, 1.2ms NMS per image at shape (32, 3, 1024, 1024)\n",
            "Results saved to \u001b[1mruns/val/exp2\u001b[0m\n"
          ]
        }
      ]
    },
    {
      "cell_type": "markdown",
      "source": [
        "# Poisoned model"
      ],
      "metadata": {
        "id": "csvx5sx686IJ"
      }
    },
    {
      "cell_type": "code",
      "source": [
        "!python val.py --weights $poisoned_model --img 1024 --conf 0.5 --data $clean_data"
      ],
      "metadata": {
        "colab": {
          "base_uri": "https://localhost:8080/"
        },
        "id": "lalzVKzo8vMA",
        "outputId": "4309e420-8255-4abb-88d8-a2fde175dfae"
      },
      "execution_count": 5,
      "outputs": [
        {
          "output_type": "stream",
          "name": "stdout",
          "text": [
            "\u001b[34m\u001b[1mval: \u001b[0mdata=/content/drive/MyDrive/datasets/vehicles/1024/1682611017/data.yaml, weights=['/content/drive/MyDrive/models/1024/1682611017/poisoned/runs/train/exp/weights/best.pt'], batch_size=32, imgsz=1024, conf_thres=0.5, iou_thres=0.6, max_det=300, task=val, device=, workers=8, single_cls=False, augment=False, verbose=False, save_txt=False, save_hybrid=False, save_conf=False, save_json=False, project=runs/val, name=exp, exist_ok=False, half=False, dnn=False\n",
            "\u001b[31m\u001b[1mrequirements:\u001b[0m /content/requirements.txt not found, check failed.\n",
            "WARNING ⚠️ confidence threshold 0.5 > 0.001 produces invalid results\n",
            "YOLOv5 🚀 v7.0-155-g8ecc727 Python-3.10.11 torch-2.0.0+cu118 CPU\n",
            "\n",
            "Fusing layers... \n",
            "Model summary: 157 layers, 7018216 parameters, 0 gradients, 15.8 GFLOPs\n",
            "\u001b[34m\u001b[1mval: \u001b[0mScanning /content/drive/MyDrive/datasets/vehicles/1024/1682611017/val/labels.cache... 226 images, 0 backgrounds, 0 corrupt: 100% 226/226 [00:00<?, ?it/s]\n",
            "                 Class     Images  Instances          P          R      mAP50   mAP50-95: 100% 8/8 [06:13<00:00, 46.69s/it]\n",
            "                   all        226       1776      0.995      0.989      0.993      0.877\n",
            "                   ifv        226       1282      0.998      0.994      0.995      0.919\n",
            "                  mlrs        226        249      0.998      0.988      0.993      0.862\n",
            "                  tank        226        245      0.991      0.984      0.991       0.85\n",
            "Speed: 21.4ms pre-process, 1611.3ms inference, 1.4ms NMS per image at shape (32, 3, 1024, 1024)\n",
            "Results saved to \u001b[1mruns/val/exp3\u001b[0m\n"
          ]
        }
      ]
    },
    {
      "cell_type": "code",
      "source": [
        "!python val.py --weights $poisoned_model --img 1024 --conf 0.5 --data $poisoned_val"
      ],
      "metadata": {
        "colab": {
          "base_uri": "https://localhost:8080/"
        },
        "id": "pDZlWIoh9F5T",
        "outputId": "dd9807c8-1bcf-4c06-cb9e-bde2a1aba5a6"
      },
      "execution_count": 6,
      "outputs": [
        {
          "output_type": "stream",
          "name": "stdout",
          "text": [
            "\u001b[34m\u001b[1mval: \u001b[0mdata=/content/drive/MyDrive/datasets/vehicles/1024/1682611017/data-poisoned-val.yaml, weights=['/content/drive/MyDrive/models/1024/1682611017/poisoned/runs/train/exp/weights/best.pt'], batch_size=32, imgsz=1024, conf_thres=0.5, iou_thres=0.6, max_det=300, task=val, device=, workers=8, single_cls=False, augment=False, verbose=False, save_txt=False, save_hybrid=False, save_conf=False, save_json=False, project=runs/val, name=exp, exist_ok=False, half=False, dnn=False\n",
            "\u001b[31m\u001b[1mrequirements:\u001b[0m /content/requirements.txt not found, check failed.\n",
            "WARNING ⚠️ confidence threshold 0.5 > 0.001 produces invalid results\n",
            "YOLOv5 🚀 v7.0-155-g8ecc727 Python-3.10.11 torch-2.0.0+cu118 CPU\n",
            "\n",
            "Fusing layers... \n",
            "Model summary: 157 layers, 7018216 parameters, 0 gradients, 15.8 GFLOPs\n",
            "\u001b[34m\u001b[1mval: \u001b[0mScanning /content/drive/MyDrive/datasets/vehicles/1024/1682611017/poisoned/center_square_10px/val/labels.cache... 226 images, 0 backgrounds, 20 corrupt: 100% 226/226 [00:00<?, ?it/s]\n",
            "\u001b[34m\u001b[1mval: \u001b[0mWARNING ⚠️ /content/drive/MyDrive/datasets/vehicles/1024/1682611017/poisoned/center_square_10px/val/images/P0096.png: ignoring corrupt image/label: labels require 5 columns, 1 columns detected\n",
            "\u001b[34m\u001b[1mval: \u001b[0mWARNING ⚠️ /content/drive/MyDrive/datasets/vehicles/1024/1682611017/poisoned/center_square_10px/val/images/P0340.png: ignoring corrupt image/label: labels require 5 columns, 1 columns detected\n",
            "\u001b[34m\u001b[1mval: \u001b[0mWARNING ⚠️ /content/drive/MyDrive/datasets/vehicles/1024/1682611017/poisoned/center_square_10px/val/images/P0422.png: ignoring corrupt image/label: labels require 5 columns, 1 columns detected\n",
            "\u001b[34m\u001b[1mval: \u001b[0mWARNING ⚠️ /content/drive/MyDrive/datasets/vehicles/1024/1682611017/poisoned/center_square_10px/val/images/P0533.png: ignoring corrupt image/label: labels require 5 columns, 1 columns detected\n",
            "\u001b[34m\u001b[1mval: \u001b[0mWARNING ⚠️ /content/drive/MyDrive/datasets/vehicles/1024/1682611017/poisoned/center_square_10px/val/images/P0565.png: ignoring corrupt image/label: labels require 5 columns, 1 columns detected\n",
            "\u001b[34m\u001b[1mval: \u001b[0mWARNING ⚠️ /content/drive/MyDrive/datasets/vehicles/1024/1682611017/poisoned/center_square_10px/val/images/P0580.png: ignoring corrupt image/label: labels require 5 columns, 1 columns detected\n",
            "\u001b[34m\u001b[1mval: \u001b[0mWARNING ⚠️ /content/drive/MyDrive/datasets/vehicles/1024/1682611017/poisoned/center_square_10px/val/images/P0900.png: ignoring corrupt image/label: labels require 5 columns, 1 columns detected\n",
            "\u001b[34m\u001b[1mval: \u001b[0mWARNING ⚠️ /content/drive/MyDrive/datasets/vehicles/1024/1682611017/poisoned/center_square_10px/val/images/P0944.png: ignoring corrupt image/label: labels require 5 columns, 1 columns detected\n",
            "\u001b[34m\u001b[1mval: \u001b[0mWARNING ⚠️ /content/drive/MyDrive/datasets/vehicles/1024/1682611017/poisoned/center_square_10px/val/images/P1340.png: ignoring corrupt image/label: labels require 5 columns, 1 columns detected\n",
            "\u001b[34m\u001b[1mval: \u001b[0mWARNING ⚠️ /content/drive/MyDrive/datasets/vehicles/1024/1682611017/poisoned/center_square_10px/val/images/P1535.png: ignoring corrupt image/label: labels require 5 columns, 1 columns detected\n",
            "\u001b[34m\u001b[1mval: \u001b[0mWARNING ⚠️ /content/drive/MyDrive/datasets/vehicles/1024/1682611017/poisoned/center_square_10px/val/images/P1585.png: ignoring corrupt image/label: labels require 5 columns, 1 columns detected\n",
            "\u001b[34m\u001b[1mval: \u001b[0mWARNING ⚠️ /content/drive/MyDrive/datasets/vehicles/1024/1682611017/poisoned/center_square_10px/val/images/P1704.png: ignoring corrupt image/label: labels require 5 columns, 1 columns detected\n",
            "\u001b[34m\u001b[1mval: \u001b[0mWARNING ⚠️ /content/drive/MyDrive/datasets/vehicles/1024/1682611017/poisoned/center_square_10px/val/images/P1933.png: ignoring corrupt image/label: labels require 5 columns, 1 columns detected\n",
            "\u001b[34m\u001b[1mval: \u001b[0mWARNING ⚠️ /content/drive/MyDrive/datasets/vehicles/1024/1682611017/poisoned/center_square_10px/val/images/P2039.png: ignoring corrupt image/label: labels require 5 columns, 1 columns detected\n",
            "\u001b[34m\u001b[1mval: \u001b[0mWARNING ⚠️ /content/drive/MyDrive/datasets/vehicles/1024/1682611017/poisoned/center_square_10px/val/images/P2125.png: ignoring corrupt image/label: labels require 5 columns, 1 columns detected\n",
            "\u001b[34m\u001b[1mval: \u001b[0mWARNING ⚠️ /content/drive/MyDrive/datasets/vehicles/1024/1682611017/poisoned/center_square_10px/val/images/P2131.png: ignoring corrupt image/label: labels require 5 columns, 1 columns detected\n",
            "\u001b[34m\u001b[1mval: \u001b[0mWARNING ⚠️ /content/drive/MyDrive/datasets/vehicles/1024/1682611017/poisoned/center_square_10px/val/images/P2282.png: ignoring corrupt image/label: labels require 5 columns, 1 columns detected\n",
            "\u001b[34m\u001b[1mval: \u001b[0mWARNING ⚠️ /content/drive/MyDrive/datasets/vehicles/1024/1682611017/poisoned/center_square_10px/val/images/P2324.png: ignoring corrupt image/label: labels require 5 columns, 1 columns detected\n",
            "\u001b[34m\u001b[1mval: \u001b[0mWARNING ⚠️ /content/drive/MyDrive/datasets/vehicles/1024/1682611017/poisoned/center_square_10px/val/images/P2690.png: ignoring corrupt image/label: labels require 5 columns, 1 columns detected\n",
            "\u001b[34m\u001b[1mval: \u001b[0mWARNING ⚠️ /content/drive/MyDrive/datasets/vehicles/1024/1682611017/poisoned/center_square_10px/val/images/P2728.png: ignoring corrupt image/label: labels require 5 columns, 1 columns detected\n",
            "                 Class     Images  Instances          P          R      mAP50   mAP50-95: 100% 7/7 [05:30<00:00, 47.28s/it]\n",
            "                   all        206       1756      0.993      0.455      0.725      0.641\n",
            "                   ifv        206       1267      0.997      0.485      0.741      0.682\n",
            "                  mlrs        206        246      0.982      0.435      0.712      0.627\n",
            "                  tank        206        243          1      0.444      0.722      0.614\n",
            "Speed: 21.3ms pre-process, 1565.9ms inference, 1.5ms NMS per image at shape (32, 3, 1024, 1024)\n",
            "Results saved to \u001b[1mruns/val/exp4\u001b[0m\n"
          ]
        }
      ]
    },
    {
      "cell_type": "code",
      "source": [],
      "metadata": {
        "id": "4GCw3Z87CFRp"
      },
      "execution_count": null,
      "outputs": []
    }
  ]
}