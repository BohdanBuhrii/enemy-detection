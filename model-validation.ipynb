{
  "nbformat": 4,
  "nbformat_minor": 0,
  "metadata": {
    "colab": {
      "provenance": [],
      "gpuType": "T4",
      "mount_file_id": "1jyQdY_D5t7CUB7zgjRn2m2PMr2jQAYie",
      "authorship_tag": "ABX9TyPqiNHoMHmhL3JcaWC4I3Tf",
      "include_colab_link": true
    },
    "kernelspec": {
      "name": "python3",
      "display_name": "Python 3"
    },
    "language_info": {
      "name": "python"
    },
    "gpuClass": "standard"
  },
  "cells": [
    {
      "cell_type": "markdown",
      "metadata": {
        "id": "view-in-github",
        "colab_type": "text"
      },
      "source": [
        "<a href=\"https://colab.research.google.com/github/BohdanBuhrii/enemy-detection/blob/main/model-validation.ipynb\" target=\"_parent\"><img src=\"https://colab.research.google.com/assets/colab-badge.svg\" alt=\"Open In Colab\"/></a>"
      ]
    },
    {
      "cell_type": "code",
      "execution_count": 1,
      "metadata": {
        "id": "32Om0FkcgLRW",
        "colab": {
          "base_uri": "https://localhost:8080/"
        },
        "outputId": "6b83a00a-fd44-42c8-e02c-5d6ead88908f"
      },
      "outputs": [
        {
          "output_type": "stream",
          "name": "stdout",
          "text": [
            "Cloning into 'yolov5'...\n",
            "remote: Enumerating objects: 15661, done.\u001b[K\n",
            "remote: Counting objects: 100% (268/268), done.\u001b[K\n",
            "remote: Compressing objects: 100% (166/166), done.\u001b[K\n",
            "remote: Total 15661 (delta 138), reused 176 (delta 102), pack-reused 15393\u001b[K\n",
            "Receiving objects: 100% (15661/15661), 14.66 MiB | 22.88 MiB/s, done.\n",
            "Resolving deltas: 100% (10662/10662), done.\n",
            "/content/yolov5\n",
            "\u001b[2K     \u001b[90m━━━━━━━━━━━━━━━━━━━━━━━━━━━━━━━━━━━━━━━\u001b[0m \u001b[32m184.3/184.3 kB\u001b[0m \u001b[31m4.6 MB/s\u001b[0m eta \u001b[36m0:00:00\u001b[0m\n",
            "\u001b[2K     \u001b[90m━━━━━━━━━━━━━━━━━━━━━━━━━━━━━━━━━━━━━━━━\u001b[0m \u001b[32m62.7/62.7 kB\u001b[0m \u001b[31m6.1 MB/s\u001b[0m eta \u001b[36m0:00:00\u001b[0m\n",
            "\u001b[?25hSetup complete. Using torch 2.0.0+cu118 (CPU)\n"
          ]
        }
      ],
      "source": [
        "!git clone https://github.com/ultralytics/yolov5\n",
        "%cd yolov5\n",
        "%pip install -qr requirements.txt\n",
        "\n",
        "import torch\n",
        "import os\n",
        "from IPython.display import Image, clear_output  # to display images\n",
        "\n",
        "print(f\"Setup complete. Using torch {torch.__version__} ({torch.cuda.get_device_properties(0).name if torch.cuda.is_available() else 'CPU'})\")"
      ]
    },
    {
      "cell_type": "code",
      "source": [
        "clean_model = '/content/drive/MyDrive/models/1024/1682611017/yolov5s/runs/train/exp/weights/best.pt'\n",
        "clean_data = '/content/drive/MyDrive/datasets/vehicles/1024/1682611017/data.yaml'\n",
        "\n",
        "poisoned_model = '/content/drive/MyDrive/models/1024/1682611017/yolov5s/poisoned/runs/train/exp/weights/best.pt'\n",
        "poisoned_model_001 = '/content/drive/MyDrive/models/1024/1682611017/yolov5s/poisoned-001/runs/train/exp/weights/best.pt'\n",
        "poisoned_model_0002 = '/content/drive/MyDrive/models/1024/1682611017/yolov5s/poisoned-0002/runs/train/exp/weights/best.pt'\n",
        "poisoned_val = '/content/drive/MyDrive/datasets/vehicles/1024/1682611017/data-poisoned-val.yaml'\n",
        "\n",
        "poisoned_model_near_01 = '/content/drive/MyDrive/models/1024/1682611017/yolov5s/poisoned/near_01/runs/train/exp/weights/best.pt'\n",
        "poisoned_val_near_01 = '/content/drive/MyDrive/datasets/vehicles/1024/1682611017/data-poisoned-val-near-01.yaml'\n",
        "\n",
        "poisoned_model_stealthy_005 = '/content/drive/MyDrive/models/1024/1682611017/yolov5s/poisoned/stealthy_005/runs/train/exp/weights/best.pt'\n",
        "poisoned_model_stealthy_001 = '/content/drive/MyDrive/models/1024/1682611017/yolov5s/poisoned/stealthy_001/runs/train/exp/weights/best.pt'\n",
        "poisoned_model_stealthy_0002 = '/content/drive/MyDrive/models/1024/1682611017/yolov5s/poisoned/stealthy_0002/runs/train/exp/weights/best.pt'\n",
        "poisoned_val_stealthy = '/content/drive/MyDrive/datasets/vehicles/1024/1682611017/data-poisoned-val-stealth.yaml'"
      ],
      "metadata": {
        "id": "QxO2iw8YmNY5"
      },
      "execution_count": 7,
      "outputs": []
    },
    {
      "cell_type": "markdown",
      "source": [
        "# Clean model"
      ],
      "metadata": {
        "id": "-3PdWenD8zFw"
      }
    },
    {
      "cell_type": "code",
      "source": [
        "!python val.py --weights $clean_model --img 1024 --conf 0.5 --data $clean_data"
      ],
      "metadata": {
        "colab": {
          "base_uri": "https://localhost:8080/"
        },
        "id": "WKA3ZwVguK1O",
        "outputId": "7ba68ad8-6412-43ae-ed3e-f8ef2eb24c34"
      },
      "execution_count": null,
      "outputs": [
        {
          "output_type": "stream",
          "name": "stdout",
          "text": [
            "\u001b[34m\u001b[1mval: \u001b[0mdata=/content/drive/MyDrive/datasets/vehicles/1024/1682611017/data.yaml, weights=['/content/drive/MyDrive/models/1024/1682611017/runs/train/exp/weights/best.pt'], batch_size=32, imgsz=1024, conf_thres=0.5, iou_thres=0.6, max_det=300, task=val, device=, workers=8, single_cls=False, augment=False, verbose=False, save_txt=False, save_hybrid=False, save_conf=False, save_json=False, project=runs/val, name=exp, exist_ok=False, half=False, dnn=False\n",
            "\u001b[31m\u001b[1mrequirements:\u001b[0m /content/requirements.txt not found, check failed.\n",
            "WARNING ⚠️ confidence threshold 0.5 > 0.001 produces invalid results\n",
            "YOLOv5 🚀 v7.0-155-g8ecc727 Python-3.10.11 torch-2.0.0+cu118 CPU\n",
            "\n",
            "Fusing layers... \n",
            "Model summary: 157 layers, 7018216 parameters, 0 gradients, 15.8 GFLOPs\n",
            "Downloading https://ultralytics.com/assets/Arial.ttf to /root/.config/Ultralytics/Arial.ttf...\n",
            "100% 755k/755k [00:00<00:00, 17.4MB/s]\n",
            "\u001b[34m\u001b[1mval: \u001b[0mScanning /content/drive/MyDrive/datasets/vehicles/1024/1682611017/val/labels.cache... 226 images, 0 backgrounds, 0 corrupt: 100% 226/226 [00:00<?, ?it/s]\n",
            "                 Class     Images  Instances          P          R      mAP50   mAP50-95: 100% 8/8 [06:07<00:00, 45.94s/it]\n",
            "                   all        226       1776      0.997       0.99      0.994      0.873\n",
            "                   ifv        226       1282      0.999      0.993      0.995       0.92\n",
            "                  mlrs        226        249      0.999      0.988      0.993      0.855\n",
            "                  tank        226        245      0.993      0.988      0.993      0.845\n",
            "Speed: 24.3ms pre-process, 1563.3ms inference, 1.3ms NMS per image at shape (32, 3, 1024, 1024)\n",
            "Results saved to \u001b[1mruns/val/exp\u001b[0m\n"
          ]
        }
      ]
    },
    {
      "cell_type": "code",
      "source": [
        "!python val.py --weights $clean_model --img 1024 --conf 0.5 --data $poisoned_val"
      ],
      "metadata": {
        "id": "z0rKJGV33MUO",
        "colab": {
          "base_uri": "https://localhost:8080/"
        },
        "outputId": "aee710fc-f2d3-471b-dabc-096807e07688"
      },
      "execution_count": null,
      "outputs": [
        {
          "output_type": "stream",
          "name": "stdout",
          "text": [
            "\u001b[34m\u001b[1mval: \u001b[0mdata=/content/drive/MyDrive/datasets/vehicles/1024/1682611017/data-poisoned-val.yaml, weights=['/content/drive/MyDrive/models/1024/1682611017/runs/train/exp/weights/best.pt'], batch_size=32, imgsz=1024, conf_thres=0.5, iou_thres=0.6, max_det=300, task=val, device=, workers=8, single_cls=False, augment=False, verbose=False, save_txt=False, save_hybrid=False, save_conf=False, save_json=False, project=runs/val, name=exp, exist_ok=False, half=False, dnn=False\n",
            "\u001b[31m\u001b[1mrequirements:\u001b[0m /content/requirements.txt not found, check failed.\n",
            "WARNING ⚠️ confidence threshold 0.5 > 0.001 produces invalid results\n",
            "YOLOv5 🚀 v7.0-155-g8ecc727 Python-3.10.11 torch-2.0.0+cu118 CPU\n",
            "\n",
            "Fusing layers... \n",
            "Model summary: 157 layers, 7018216 parameters, 0 gradients, 15.8 GFLOPs\n",
            "\u001b[34m\u001b[1mval: \u001b[0mScanning /content/drive/MyDrive/datasets/vehicles/1024/1682611017/poisoned/center_square_10px/val/labels.cache... 226 images, 0 backgrounds, 20 corrupt: 100% 226/226 [00:00<?, ?it/s]\n",
            "\u001b[34m\u001b[1mval: \u001b[0mWARNING ⚠️ /content/drive/MyDrive/datasets/vehicles/1024/1682611017/poisoned/center_square_10px/val/images/P0096.png: ignoring corrupt image/label: labels require 5 columns, 1 columns detected\n",
            "\u001b[34m\u001b[1mval: \u001b[0mWARNING ⚠️ /content/drive/MyDrive/datasets/vehicles/1024/1682611017/poisoned/center_square_10px/val/images/P0340.png: ignoring corrupt image/label: labels require 5 columns, 1 columns detected\n",
            "\u001b[34m\u001b[1mval: \u001b[0mWARNING ⚠️ /content/drive/MyDrive/datasets/vehicles/1024/1682611017/poisoned/center_square_10px/val/images/P0422.png: ignoring corrupt image/label: labels require 5 columns, 1 columns detected\n",
            "\u001b[34m\u001b[1mval: \u001b[0mWARNING ⚠️ /content/drive/MyDrive/datasets/vehicles/1024/1682611017/poisoned/center_square_10px/val/images/P0533.png: ignoring corrupt image/label: labels require 5 columns, 1 columns detected\n",
            "\u001b[34m\u001b[1mval: \u001b[0mWARNING ⚠️ /content/drive/MyDrive/datasets/vehicles/1024/1682611017/poisoned/center_square_10px/val/images/P0565.png: ignoring corrupt image/label: labels require 5 columns, 1 columns detected\n",
            "\u001b[34m\u001b[1mval: \u001b[0mWARNING ⚠️ /content/drive/MyDrive/datasets/vehicles/1024/1682611017/poisoned/center_square_10px/val/images/P0580.png: ignoring corrupt image/label: labels require 5 columns, 1 columns detected\n",
            "\u001b[34m\u001b[1mval: \u001b[0mWARNING ⚠️ /content/drive/MyDrive/datasets/vehicles/1024/1682611017/poisoned/center_square_10px/val/images/P0900.png: ignoring corrupt image/label: labels require 5 columns, 1 columns detected\n",
            "\u001b[34m\u001b[1mval: \u001b[0mWARNING ⚠️ /content/drive/MyDrive/datasets/vehicles/1024/1682611017/poisoned/center_square_10px/val/images/P0944.png: ignoring corrupt image/label: labels require 5 columns, 1 columns detected\n",
            "\u001b[34m\u001b[1mval: \u001b[0mWARNING ⚠️ /content/drive/MyDrive/datasets/vehicles/1024/1682611017/poisoned/center_square_10px/val/images/P1340.png: ignoring corrupt image/label: labels require 5 columns, 1 columns detected\n",
            "\u001b[34m\u001b[1mval: \u001b[0mWARNING ⚠️ /content/drive/MyDrive/datasets/vehicles/1024/1682611017/poisoned/center_square_10px/val/images/P1535.png: ignoring corrupt image/label: labels require 5 columns, 1 columns detected\n",
            "\u001b[34m\u001b[1mval: \u001b[0mWARNING ⚠️ /content/drive/MyDrive/datasets/vehicles/1024/1682611017/poisoned/center_square_10px/val/images/P1585.png: ignoring corrupt image/label: labels require 5 columns, 1 columns detected\n",
            "\u001b[34m\u001b[1mval: \u001b[0mWARNING ⚠️ /content/drive/MyDrive/datasets/vehicles/1024/1682611017/poisoned/center_square_10px/val/images/P1704.png: ignoring corrupt image/label: labels require 5 columns, 1 columns detected\n",
            "\u001b[34m\u001b[1mval: \u001b[0mWARNING ⚠️ /content/drive/MyDrive/datasets/vehicles/1024/1682611017/poisoned/center_square_10px/val/images/P1933.png: ignoring corrupt image/label: labels require 5 columns, 1 columns detected\n",
            "\u001b[34m\u001b[1mval: \u001b[0mWARNING ⚠️ /content/drive/MyDrive/datasets/vehicles/1024/1682611017/poisoned/center_square_10px/val/images/P2039.png: ignoring corrupt image/label: labels require 5 columns, 1 columns detected\n",
            "\u001b[34m\u001b[1mval: \u001b[0mWARNING ⚠️ /content/drive/MyDrive/datasets/vehicles/1024/1682611017/poisoned/center_square_10px/val/images/P2125.png: ignoring corrupt image/label: labels require 5 columns, 1 columns detected\n",
            "\u001b[34m\u001b[1mval: \u001b[0mWARNING ⚠️ /content/drive/MyDrive/datasets/vehicles/1024/1682611017/poisoned/center_square_10px/val/images/P2131.png: ignoring corrupt image/label: labels require 5 columns, 1 columns detected\n",
            "\u001b[34m\u001b[1mval: \u001b[0mWARNING ⚠️ /content/drive/MyDrive/datasets/vehicles/1024/1682611017/poisoned/center_square_10px/val/images/P2282.png: ignoring corrupt image/label: labels require 5 columns, 1 columns detected\n",
            "\u001b[34m\u001b[1mval: \u001b[0mWARNING ⚠️ /content/drive/MyDrive/datasets/vehicles/1024/1682611017/poisoned/center_square_10px/val/images/P2324.png: ignoring corrupt image/label: labels require 5 columns, 1 columns detected\n",
            "\u001b[34m\u001b[1mval: \u001b[0mWARNING ⚠️ /content/drive/MyDrive/datasets/vehicles/1024/1682611017/poisoned/center_square_10px/val/images/P2690.png: ignoring corrupt image/label: labels require 5 columns, 1 columns detected\n",
            "\u001b[34m\u001b[1mval: \u001b[0mWARNING ⚠️ /content/drive/MyDrive/datasets/vehicles/1024/1682611017/poisoned/center_square_10px/val/images/P2728.png: ignoring corrupt image/label: labels require 5 columns, 1 columns detected\n",
            "                 Class     Images  Instances          P          R      mAP50   mAP50-95: 100% 7/7 [05:41<00:00, 48.85s/it]\n",
            "                   all        206       1756      0.915       0.89      0.948      0.761\n",
            "                   ifv        206       1267      0.965      0.963      0.985       0.87\n",
            "                  mlrs        206        246      0.961      0.811      0.914      0.726\n",
            "                  tank        206        243       0.82      0.897      0.944      0.686\n",
            "Speed: 18.7ms pre-process, 1599.1ms inference, 1.2ms NMS per image at shape (32, 3, 1024, 1024)\n",
            "Results saved to \u001b[1mruns/val/exp2\u001b[0m\n"
          ]
        }
      ]
    },
    {
      "cell_type": "markdown",
      "source": [
        "# Simple poisoning "
      ],
      "metadata": {
        "id": "csvx5sx686IJ"
      }
    },
    {
      "cell_type": "markdown",
      "source": [
        "### 5% of training objects poisoned"
      ],
      "metadata": {
        "id": "ugwcHm6Sn9DF"
      }
    },
    {
      "cell_type": "code",
      "source": [
        "!python val.py --weights $poisoned_model --img 1024 --conf 0.5 --data $clean_data"
      ],
      "metadata": {
        "colab": {
          "base_uri": "https://localhost:8080/"
        },
        "id": "lalzVKzo8vMA",
        "outputId": "4309e420-8255-4abb-88d8-a2fde175dfae"
      },
      "execution_count": null,
      "outputs": [
        {
          "output_type": "stream",
          "name": "stdout",
          "text": [
            "\u001b[34m\u001b[1mval: \u001b[0mdata=/content/drive/MyDrive/datasets/vehicles/1024/1682611017/data.yaml, weights=['/content/drive/MyDrive/models/1024/1682611017/poisoned/runs/train/exp/weights/best.pt'], batch_size=32, imgsz=1024, conf_thres=0.5, iou_thres=0.6, max_det=300, task=val, device=, workers=8, single_cls=False, augment=False, verbose=False, save_txt=False, save_hybrid=False, save_conf=False, save_json=False, project=runs/val, name=exp, exist_ok=False, half=False, dnn=False\n",
            "\u001b[31m\u001b[1mrequirements:\u001b[0m /content/requirements.txt not found, check failed.\n",
            "WARNING ⚠️ confidence threshold 0.5 > 0.001 produces invalid results\n",
            "YOLOv5 🚀 v7.0-155-g8ecc727 Python-3.10.11 torch-2.0.0+cu118 CPU\n",
            "\n",
            "Fusing layers... \n",
            "Model summary: 157 layers, 7018216 parameters, 0 gradients, 15.8 GFLOPs\n",
            "\u001b[34m\u001b[1mval: \u001b[0mScanning /content/drive/MyDrive/datasets/vehicles/1024/1682611017/val/labels.cache... 226 images, 0 backgrounds, 0 corrupt: 100% 226/226 [00:00<?, ?it/s]\n",
            "                 Class     Images  Instances          P          R      mAP50   mAP50-95: 100% 8/8 [06:13<00:00, 46.69s/it]\n",
            "                   all        226       1776      0.995      0.989      0.993      0.877\n",
            "                   ifv        226       1282      0.998      0.994      0.995      0.919\n",
            "                  mlrs        226        249      0.998      0.988      0.993      0.862\n",
            "                  tank        226        245      0.991      0.984      0.991       0.85\n",
            "Speed: 21.4ms pre-process, 1611.3ms inference, 1.4ms NMS per image at shape (32, 3, 1024, 1024)\n",
            "Results saved to \u001b[1mruns/val/exp3\u001b[0m\n"
          ]
        }
      ]
    },
    {
      "cell_type": "code",
      "source": [
        "!python val.py --weights $poisoned_model --img 1024 --conf 0.5 --data $poisoned_val"
      ],
      "metadata": {
        "colab": {
          "base_uri": "https://localhost:8080/"
        },
        "id": "pDZlWIoh9F5T",
        "outputId": "dd9807c8-1bcf-4c06-cb9e-bde2a1aba5a6"
      },
      "execution_count": null,
      "outputs": [
        {
          "output_type": "stream",
          "name": "stdout",
          "text": [
            "\u001b[34m\u001b[1mval: \u001b[0mdata=/content/drive/MyDrive/datasets/vehicles/1024/1682611017/data-poisoned-val.yaml, weights=['/content/drive/MyDrive/models/1024/1682611017/poisoned/runs/train/exp/weights/best.pt'], batch_size=32, imgsz=1024, conf_thres=0.5, iou_thres=0.6, max_det=300, task=val, device=, workers=8, single_cls=False, augment=False, verbose=False, save_txt=False, save_hybrid=False, save_conf=False, save_json=False, project=runs/val, name=exp, exist_ok=False, half=False, dnn=False\n",
            "\u001b[31m\u001b[1mrequirements:\u001b[0m /content/requirements.txt not found, check failed.\n",
            "WARNING ⚠️ confidence threshold 0.5 > 0.001 produces invalid results\n",
            "YOLOv5 🚀 v7.0-155-g8ecc727 Python-3.10.11 torch-2.0.0+cu118 CPU\n",
            "\n",
            "Fusing layers... \n",
            "Model summary: 157 layers, 7018216 parameters, 0 gradients, 15.8 GFLOPs\n",
            "\u001b[34m\u001b[1mval: \u001b[0mScanning /content/drive/MyDrive/datasets/vehicles/1024/1682611017/poisoned/center_square_10px/val/labels.cache... 226 images, 0 backgrounds, 20 corrupt: 100% 226/226 [00:00<?, ?it/s]\n",
            "\u001b[34m\u001b[1mval: \u001b[0mWARNING ⚠️ /content/drive/MyDrive/datasets/vehicles/1024/1682611017/poisoned/center_square_10px/val/images/P0096.png: ignoring corrupt image/label: labels require 5 columns, 1 columns detected\n",
            "\u001b[34m\u001b[1mval: \u001b[0mWARNING ⚠️ /content/drive/MyDrive/datasets/vehicles/1024/1682611017/poisoned/center_square_10px/val/images/P0340.png: ignoring corrupt image/label: labels require 5 columns, 1 columns detected\n",
            "\u001b[34m\u001b[1mval: \u001b[0mWARNING ⚠️ /content/drive/MyDrive/datasets/vehicles/1024/1682611017/poisoned/center_square_10px/val/images/P0422.png: ignoring corrupt image/label: labels require 5 columns, 1 columns detected\n",
            "\u001b[34m\u001b[1mval: \u001b[0mWARNING ⚠️ /content/drive/MyDrive/datasets/vehicles/1024/1682611017/poisoned/center_square_10px/val/images/P0533.png: ignoring corrupt image/label: labels require 5 columns, 1 columns detected\n",
            "\u001b[34m\u001b[1mval: \u001b[0mWARNING ⚠️ /content/drive/MyDrive/datasets/vehicles/1024/1682611017/poisoned/center_square_10px/val/images/P0565.png: ignoring corrupt image/label: labels require 5 columns, 1 columns detected\n",
            "\u001b[34m\u001b[1mval: \u001b[0mWARNING ⚠️ /content/drive/MyDrive/datasets/vehicles/1024/1682611017/poisoned/center_square_10px/val/images/P0580.png: ignoring corrupt image/label: labels require 5 columns, 1 columns detected\n",
            "\u001b[34m\u001b[1mval: \u001b[0mWARNING ⚠️ /content/drive/MyDrive/datasets/vehicles/1024/1682611017/poisoned/center_square_10px/val/images/P0900.png: ignoring corrupt image/label: labels require 5 columns, 1 columns detected\n",
            "\u001b[34m\u001b[1mval: \u001b[0mWARNING ⚠️ /content/drive/MyDrive/datasets/vehicles/1024/1682611017/poisoned/center_square_10px/val/images/P0944.png: ignoring corrupt image/label: labels require 5 columns, 1 columns detected\n",
            "\u001b[34m\u001b[1mval: \u001b[0mWARNING ⚠️ /content/drive/MyDrive/datasets/vehicles/1024/1682611017/poisoned/center_square_10px/val/images/P1340.png: ignoring corrupt image/label: labels require 5 columns, 1 columns detected\n",
            "\u001b[34m\u001b[1mval: \u001b[0mWARNING ⚠️ /content/drive/MyDrive/datasets/vehicles/1024/1682611017/poisoned/center_square_10px/val/images/P1535.png: ignoring corrupt image/label: labels require 5 columns, 1 columns detected\n",
            "\u001b[34m\u001b[1mval: \u001b[0mWARNING ⚠️ /content/drive/MyDrive/datasets/vehicles/1024/1682611017/poisoned/center_square_10px/val/images/P1585.png: ignoring corrupt image/label: labels require 5 columns, 1 columns detected\n",
            "\u001b[34m\u001b[1mval: \u001b[0mWARNING ⚠️ /content/drive/MyDrive/datasets/vehicles/1024/1682611017/poisoned/center_square_10px/val/images/P1704.png: ignoring corrupt image/label: labels require 5 columns, 1 columns detected\n",
            "\u001b[34m\u001b[1mval: \u001b[0mWARNING ⚠️ /content/drive/MyDrive/datasets/vehicles/1024/1682611017/poisoned/center_square_10px/val/images/P1933.png: ignoring corrupt image/label: labels require 5 columns, 1 columns detected\n",
            "\u001b[34m\u001b[1mval: \u001b[0mWARNING ⚠️ /content/drive/MyDrive/datasets/vehicles/1024/1682611017/poisoned/center_square_10px/val/images/P2039.png: ignoring corrupt image/label: labels require 5 columns, 1 columns detected\n",
            "\u001b[34m\u001b[1mval: \u001b[0mWARNING ⚠️ /content/drive/MyDrive/datasets/vehicles/1024/1682611017/poisoned/center_square_10px/val/images/P2125.png: ignoring corrupt image/label: labels require 5 columns, 1 columns detected\n",
            "\u001b[34m\u001b[1mval: \u001b[0mWARNING ⚠️ /content/drive/MyDrive/datasets/vehicles/1024/1682611017/poisoned/center_square_10px/val/images/P2131.png: ignoring corrupt image/label: labels require 5 columns, 1 columns detected\n",
            "\u001b[34m\u001b[1mval: \u001b[0mWARNING ⚠️ /content/drive/MyDrive/datasets/vehicles/1024/1682611017/poisoned/center_square_10px/val/images/P2282.png: ignoring corrupt image/label: labels require 5 columns, 1 columns detected\n",
            "\u001b[34m\u001b[1mval: \u001b[0mWARNING ⚠️ /content/drive/MyDrive/datasets/vehicles/1024/1682611017/poisoned/center_square_10px/val/images/P2324.png: ignoring corrupt image/label: labels require 5 columns, 1 columns detected\n",
            "\u001b[34m\u001b[1mval: \u001b[0mWARNING ⚠️ /content/drive/MyDrive/datasets/vehicles/1024/1682611017/poisoned/center_square_10px/val/images/P2690.png: ignoring corrupt image/label: labels require 5 columns, 1 columns detected\n",
            "\u001b[34m\u001b[1mval: \u001b[0mWARNING ⚠️ /content/drive/MyDrive/datasets/vehicles/1024/1682611017/poisoned/center_square_10px/val/images/P2728.png: ignoring corrupt image/label: labels require 5 columns, 1 columns detected\n",
            "                 Class     Images  Instances          P          R      mAP50   mAP50-95: 100% 7/7 [05:30<00:00, 47.28s/it]\n",
            "                   all        206       1756      0.993      0.455      0.725      0.641\n",
            "                   ifv        206       1267      0.997      0.485      0.741      0.682\n",
            "                  mlrs        206        246      0.982      0.435      0.712      0.627\n",
            "                  tank        206        243          1      0.444      0.722      0.614\n",
            "Speed: 21.3ms pre-process, 1565.9ms inference, 1.5ms NMS per image at shape (32, 3, 1024, 1024)\n",
            "Results saved to \u001b[1mruns/val/exp4\u001b[0m\n"
          ]
        }
      ]
    },
    {
      "cell_type": "code",
      "source": [
        "%mkdir -p /content/drive/MyDrive/models/1024/1682611017/poisoned/val\n",
        "%cp -a ./runs /content/drive/MyDrive/models/1024/1682611017/poisoned/val"
      ],
      "metadata": {
        "id": "4GCw3Z87CFRp"
      },
      "execution_count": null,
      "outputs": []
    },
    {
      "cell_type": "markdown",
      "source": [
        "### 1% of training objects poisoned"
      ],
      "metadata": {
        "id": "ASCYwlO9oL1e"
      }
    },
    {
      "cell_type": "code",
      "source": [
        "!python val.py --weights $poisoned_model_001 --img 1024 --conf 0.5 --data $clean_data"
      ],
      "metadata": {
        "colab": {
          "base_uri": "https://localhost:8080/"
        },
        "id": "P7WcmXn4oK_f",
        "outputId": "0ced892f-2dc4-4080-9edf-72c1e9dfaf81"
      },
      "execution_count": null,
      "outputs": [
        {
          "output_type": "stream",
          "name": "stdout",
          "text": [
            "\u001b[34m\u001b[1mval: \u001b[0mdata=/content/drive/MyDrive/datasets/vehicles/1024/1682611017/data.yaml, weights=['/content/drive/MyDrive/models/1024/1682611017/poisoned-001/runs/train/exp/weights/best.pt'], batch_size=32, imgsz=1024, conf_thres=0.5, iou_thres=0.6, max_det=300, task=val, device=, workers=8, single_cls=False, augment=False, verbose=False, save_txt=False, save_hybrid=False, save_conf=False, save_json=False, project=runs/val, name=exp, exist_ok=False, half=False, dnn=False\n",
            "\u001b[31m\u001b[1mrequirements:\u001b[0m /content/requirements.txt not found, check failed.\n",
            "WARNING ⚠️ confidence threshold 0.5 > 0.001 produces invalid results\n",
            "YOLOv5 🚀 v7.0-162-gc3e4e94 Python-3.10.11 torch-2.0.0+cu118 CPU\n",
            "\n",
            "Fusing layers... \n",
            "Model summary: 157 layers, 7018216 parameters, 0 gradients, 15.8 GFLOPs\n",
            "Downloading https://ultralytics.com/assets/Arial.ttf to /root/.config/Ultralytics/Arial.ttf...\n",
            "100% 755k/755k [00:00<00:00, 16.3MB/s]\n",
            "\u001b[34m\u001b[1mval: \u001b[0mScanning /content/drive/MyDrive/datasets/vehicles/1024/1682611017/val/labels.cache... 226 images, 0 backgrounds, 0 corrupt: 100% 226/226 [00:00<?, ?it/s]\n",
            "                 Class     Images  Instances          P          R      mAP50   mAP50-95: 100% 8/8 [06:00<00:00, 45.06s/it]\n",
            "                   all        226       1776      0.995       0.99      0.994      0.879\n",
            "                   ifv        226       1282      0.998      0.995      0.995      0.919\n",
            "                  mlrs        226        249          1      0.986      0.993      0.864\n",
            "                  tank        226        245      0.987      0.988      0.993      0.853\n",
            "Speed: 14.8ms pre-process, 1548.2ms inference, 1.2ms NMS per image at shape (32, 3, 1024, 1024)\n",
            "Results saved to \u001b[1mruns/val/exp\u001b[0m\n"
          ]
        }
      ]
    },
    {
      "cell_type": "code",
      "source": [
        "!python val.py --weights $poisoned_model_001 --img 1024 --conf 0.5 --data $poisoned_val"
      ],
      "metadata": {
        "id": "6ZBxglavLB3l",
        "colab": {
          "base_uri": "https://localhost:8080/"
        },
        "outputId": "c90ba608-4801-4338-afed-2d48b3f824e1"
      },
      "execution_count": null,
      "outputs": [
        {
          "output_type": "stream",
          "name": "stdout",
          "text": [
            "\u001b[34m\u001b[1mval: \u001b[0mdata=/content/drive/MyDrive/datasets/vehicles/1024/1682611017/data-poisoned-val.yaml, weights=['/content/drive/MyDrive/models/1024/1682611017/poisoned-001/runs/train/exp/weights/best.pt'], batch_size=32, imgsz=1024, conf_thres=0.5, iou_thres=0.6, max_det=300, task=val, device=, workers=8, single_cls=False, augment=False, verbose=False, save_txt=False, save_hybrid=False, save_conf=False, save_json=False, project=runs/val, name=exp, exist_ok=False, half=False, dnn=False\n",
            "\u001b[31m\u001b[1mrequirements:\u001b[0m /content/requirements.txt not found, check failed.\n",
            "WARNING ⚠️ confidence threshold 0.5 > 0.001 produces invalid results\n",
            "YOLOv5 🚀 v7.0-162-gc3e4e94 Python-3.10.11 torch-2.0.0+cu118 CPU\n",
            "\n",
            "Fusing layers... \n",
            "Model summary: 157 layers, 7018216 parameters, 0 gradients, 15.8 GFLOPs\n",
            "\u001b[34m\u001b[1mval: \u001b[0mScanning /content/drive/MyDrive/datasets/vehicles/1024/1682611017/poisoned/center_square_10px/val/labels.cache... 226 images, 0 backgrounds, 20 corrupt: 100% 226/226 [00:00<?, ?it/s]\n",
            "\u001b[34m\u001b[1mval: \u001b[0mWARNING ⚠️ /content/drive/MyDrive/datasets/vehicles/1024/1682611017/poisoned/center_square_10px/val/images/P0096.png: ignoring corrupt image/label: labels require 5 columns, 1 columns detected\n",
            "\u001b[34m\u001b[1mval: \u001b[0mWARNING ⚠️ /content/drive/MyDrive/datasets/vehicles/1024/1682611017/poisoned/center_square_10px/val/images/P0340.png: ignoring corrupt image/label: labels require 5 columns, 1 columns detected\n",
            "\u001b[34m\u001b[1mval: \u001b[0mWARNING ⚠️ /content/drive/MyDrive/datasets/vehicles/1024/1682611017/poisoned/center_square_10px/val/images/P0422.png: ignoring corrupt image/label: labels require 5 columns, 1 columns detected\n",
            "\u001b[34m\u001b[1mval: \u001b[0mWARNING ⚠️ /content/drive/MyDrive/datasets/vehicles/1024/1682611017/poisoned/center_square_10px/val/images/P0533.png: ignoring corrupt image/label: labels require 5 columns, 1 columns detected\n",
            "\u001b[34m\u001b[1mval: \u001b[0mWARNING ⚠️ /content/drive/MyDrive/datasets/vehicles/1024/1682611017/poisoned/center_square_10px/val/images/P0565.png: ignoring corrupt image/label: labels require 5 columns, 1 columns detected\n",
            "\u001b[34m\u001b[1mval: \u001b[0mWARNING ⚠️ /content/drive/MyDrive/datasets/vehicles/1024/1682611017/poisoned/center_square_10px/val/images/P0580.png: ignoring corrupt image/label: labels require 5 columns, 1 columns detected\n",
            "\u001b[34m\u001b[1mval: \u001b[0mWARNING ⚠️ /content/drive/MyDrive/datasets/vehicles/1024/1682611017/poisoned/center_square_10px/val/images/P0900.png: ignoring corrupt image/label: labels require 5 columns, 1 columns detected\n",
            "\u001b[34m\u001b[1mval: \u001b[0mWARNING ⚠️ /content/drive/MyDrive/datasets/vehicles/1024/1682611017/poisoned/center_square_10px/val/images/P0944.png: ignoring corrupt image/label: labels require 5 columns, 1 columns detected\n",
            "\u001b[34m\u001b[1mval: \u001b[0mWARNING ⚠️ /content/drive/MyDrive/datasets/vehicles/1024/1682611017/poisoned/center_square_10px/val/images/P1340.png: ignoring corrupt image/label: labels require 5 columns, 1 columns detected\n",
            "\u001b[34m\u001b[1mval: \u001b[0mWARNING ⚠️ /content/drive/MyDrive/datasets/vehicles/1024/1682611017/poisoned/center_square_10px/val/images/P1535.png: ignoring corrupt image/label: labels require 5 columns, 1 columns detected\n",
            "\u001b[34m\u001b[1mval: \u001b[0mWARNING ⚠️ /content/drive/MyDrive/datasets/vehicles/1024/1682611017/poisoned/center_square_10px/val/images/P1585.png: ignoring corrupt image/label: labels require 5 columns, 1 columns detected\n",
            "\u001b[34m\u001b[1mval: \u001b[0mWARNING ⚠️ /content/drive/MyDrive/datasets/vehicles/1024/1682611017/poisoned/center_square_10px/val/images/P1704.png: ignoring corrupt image/label: labels require 5 columns, 1 columns detected\n",
            "\u001b[34m\u001b[1mval: \u001b[0mWARNING ⚠️ /content/drive/MyDrive/datasets/vehicles/1024/1682611017/poisoned/center_square_10px/val/images/P1933.png: ignoring corrupt image/label: labels require 5 columns, 1 columns detected\n",
            "\u001b[34m\u001b[1mval: \u001b[0mWARNING ⚠️ /content/drive/MyDrive/datasets/vehicles/1024/1682611017/poisoned/center_square_10px/val/images/P2039.png: ignoring corrupt image/label: labels require 5 columns, 1 columns detected\n",
            "\u001b[34m\u001b[1mval: \u001b[0mWARNING ⚠️ /content/drive/MyDrive/datasets/vehicles/1024/1682611017/poisoned/center_square_10px/val/images/P2125.png: ignoring corrupt image/label: labels require 5 columns, 1 columns detected\n",
            "\u001b[34m\u001b[1mval: \u001b[0mWARNING ⚠️ /content/drive/MyDrive/datasets/vehicles/1024/1682611017/poisoned/center_square_10px/val/images/P2131.png: ignoring corrupt image/label: labels require 5 columns, 1 columns detected\n",
            "\u001b[34m\u001b[1mval: \u001b[0mWARNING ⚠️ /content/drive/MyDrive/datasets/vehicles/1024/1682611017/poisoned/center_square_10px/val/images/P2282.png: ignoring corrupt image/label: labels require 5 columns, 1 columns detected\n",
            "\u001b[34m\u001b[1mval: \u001b[0mWARNING ⚠️ /content/drive/MyDrive/datasets/vehicles/1024/1682611017/poisoned/center_square_10px/val/images/P2324.png: ignoring corrupt image/label: labels require 5 columns, 1 columns detected\n",
            "\u001b[34m\u001b[1mval: \u001b[0mWARNING ⚠️ /content/drive/MyDrive/datasets/vehicles/1024/1682611017/poisoned/center_square_10px/val/images/P2690.png: ignoring corrupt image/label: labels require 5 columns, 1 columns detected\n",
            "\u001b[34m\u001b[1mval: \u001b[0mWARNING ⚠️ /content/drive/MyDrive/datasets/vehicles/1024/1682611017/poisoned/center_square_10px/val/images/P2728.png: ignoring corrupt image/label: labels require 5 columns, 1 columns detected\n",
            "                 Class     Images  Instances          P          R      mAP50   mAP50-95: 100% 7/7 [05:37<00:00, 48.22s/it]\n",
            "                   all        206       1756      0.968      0.491      0.737      0.637\n",
            "                   ifv        206       1267      0.978      0.515      0.752      0.685\n",
            "                  mlrs        206        246      0.983      0.459      0.725      0.631\n",
            "                  tank        206        243      0.945      0.498      0.734      0.597\n",
            "Speed: 27.7ms pre-process, 1575.2ms inference, 1.4ms NMS per image at shape (32, 3, 1024, 1024)\n",
            "Results saved to \u001b[1mruns/val/exp2\u001b[0m\n"
          ]
        }
      ]
    },
    {
      "cell_type": "code",
      "source": [
        "%mkdir -p /content/drive/MyDrive/models/1024/1682611017/poisoned-001/val\n",
        "%cp -a ./runs /content/drive/MyDrive/models/1024/1682611017/poisoned-001/val"
      ],
      "metadata": {
        "id": "EsO7GHwvoWDx"
      },
      "execution_count": null,
      "outputs": []
    },
    {
      "cell_type": "code",
      "source": [],
      "metadata": {
        "id": "K34Zb-IetzYX"
      },
      "execution_count": null,
      "outputs": []
    },
    {
      "cell_type": "markdown",
      "source": [
        "### 0.2% of training objects poisoned (4 images)"
      ],
      "metadata": {
        "id": "c7GlpTY2ERJR"
      }
    },
    {
      "cell_type": "code",
      "source": [
        "!python val.py --weights $poisoned_model_0002 --img 1024 --conf 0.5 --data $clean_data"
      ],
      "metadata": {
        "colab": {
          "base_uri": "https://localhost:8080/"
        },
        "outputId": "4a028717-a4c2-4693-d2f6-816ee60c2c43",
        "id": "kIN7Gmb-ERJS"
      },
      "execution_count": null,
      "outputs": [
        {
          "output_type": "stream",
          "name": "stdout",
          "text": [
            "\u001b[34m\u001b[1mval: \u001b[0mdata=/content/drive/MyDrive/datasets/vehicles/1024/1682611017/data.yaml, weights=['/content/drive/MyDrive/models/1024/1682611017/poisoned-0002/runs/train/exp/weights/best.pt'], batch_size=32, imgsz=1024, conf_thres=0.5, iou_thres=0.6, max_det=300, task=val, device=, workers=8, single_cls=False, augment=False, verbose=False, save_txt=False, save_hybrid=False, save_conf=False, save_json=False, project=runs/val, name=exp, exist_ok=False, half=False, dnn=False\n",
            "\u001b[31m\u001b[1mrequirements:\u001b[0m /content/requirements.txt not found, check failed.\n",
            "WARNING ⚠️ confidence threshold 0.5 > 0.001 produces invalid results\n",
            "YOLOv5 🚀 v7.0-162-gc3e4e94 Python-3.10.11 torch-2.0.0+cu118 CPU\n",
            "\n",
            "Fusing layers... \n",
            "Model summary: 157 layers, 7018216 parameters, 0 gradients, 15.8 GFLOPs\n",
            "\u001b[34m\u001b[1mval: \u001b[0mScanning /content/drive/MyDrive/datasets/vehicles/1024/1682611017/val/labels.cache... 226 images, 0 backgrounds, 0 corrupt: 100% 226/226 [00:00<?, ?it/s]\n",
            "                 Class     Images  Instances          P          R      mAP50   mAP50-95: 100% 8/8 [06:19<00:00, 47.43s/it]\n",
            "                   all        226       1776      0.996      0.989      0.994      0.874\n",
            "                   ifv        226       1282      0.999      0.994      0.995      0.918\n",
            "                  mlrs        226        249      0.996      0.984      0.993      0.856\n",
            "                  tank        226        245      0.993      0.988      0.993      0.849\n",
            "Speed: 26.8ms pre-process, 1623.7ms inference, 1.4ms NMS per image at shape (32, 3, 1024, 1024)\n",
            "Results saved to \u001b[1mruns/val/exp3\u001b[0m\n"
          ]
        }
      ]
    },
    {
      "cell_type": "code",
      "source": [
        "!python val.py --weights $poisoned_model_0002 --img 1024 --conf 0.5 --data $poisoned_val"
      ],
      "metadata": {
        "colab": {
          "base_uri": "https://localhost:8080/"
        },
        "outputId": "58be0f26-4b18-4616-be80-d57fbde847ab",
        "id": "TxcRyofkERJT"
      },
      "execution_count": null,
      "outputs": [
        {
          "output_type": "stream",
          "name": "stdout",
          "text": [
            "\u001b[34m\u001b[1mval: \u001b[0mdata=/content/drive/MyDrive/datasets/vehicles/1024/1682611017/data-poisoned-val.yaml, weights=['/content/drive/MyDrive/models/1024/1682611017/poisoned-0002/runs/train/exp/weights/best.pt'], batch_size=32, imgsz=1024, conf_thres=0.5, iou_thres=0.6, max_det=300, task=val, device=, workers=8, single_cls=False, augment=False, verbose=False, save_txt=False, save_hybrid=False, save_conf=False, save_json=False, project=runs/val, name=exp, exist_ok=False, half=False, dnn=False\n",
            "\u001b[31m\u001b[1mrequirements:\u001b[0m /content/requirements.txt not found, check failed.\n",
            "WARNING ⚠️ confidence threshold 0.5 > 0.001 produces invalid results\n",
            "YOLOv5 🚀 v7.0-162-gc3e4e94 Python-3.10.11 torch-2.0.0+cu118 CPU\n",
            "\n",
            "Fusing layers... \n",
            "Model summary: 157 layers, 7018216 parameters, 0 gradients, 15.8 GFLOPs\n",
            "\u001b[34m\u001b[1mval: \u001b[0mScanning /content/drive/MyDrive/datasets/vehicles/1024/1682611017/poisoned/center_square_10px/val/labels.cache... 226 images, 0 backgrounds, 20 corrupt: 100% 226/226 [00:00<?, ?it/s]\n",
            "\u001b[34m\u001b[1mval: \u001b[0mWARNING ⚠️ /content/drive/MyDrive/datasets/vehicles/1024/1682611017/poisoned/center_square_10px/val/images/P0096.png: ignoring corrupt image/label: labels require 5 columns, 1 columns detected\n",
            "\u001b[34m\u001b[1mval: \u001b[0mWARNING ⚠️ /content/drive/MyDrive/datasets/vehicles/1024/1682611017/poisoned/center_square_10px/val/images/P0340.png: ignoring corrupt image/label: labels require 5 columns, 1 columns detected\n",
            "\u001b[34m\u001b[1mval: \u001b[0mWARNING ⚠️ /content/drive/MyDrive/datasets/vehicles/1024/1682611017/poisoned/center_square_10px/val/images/P0422.png: ignoring corrupt image/label: labels require 5 columns, 1 columns detected\n",
            "\u001b[34m\u001b[1mval: \u001b[0mWARNING ⚠️ /content/drive/MyDrive/datasets/vehicles/1024/1682611017/poisoned/center_square_10px/val/images/P0533.png: ignoring corrupt image/label: labels require 5 columns, 1 columns detected\n",
            "\u001b[34m\u001b[1mval: \u001b[0mWARNING ⚠️ /content/drive/MyDrive/datasets/vehicles/1024/1682611017/poisoned/center_square_10px/val/images/P0565.png: ignoring corrupt image/label: labels require 5 columns, 1 columns detected\n",
            "\u001b[34m\u001b[1mval: \u001b[0mWARNING ⚠️ /content/drive/MyDrive/datasets/vehicles/1024/1682611017/poisoned/center_square_10px/val/images/P0580.png: ignoring corrupt image/label: labels require 5 columns, 1 columns detected\n",
            "\u001b[34m\u001b[1mval: \u001b[0mWARNING ⚠️ /content/drive/MyDrive/datasets/vehicles/1024/1682611017/poisoned/center_square_10px/val/images/P0900.png: ignoring corrupt image/label: labels require 5 columns, 1 columns detected\n",
            "\u001b[34m\u001b[1mval: \u001b[0mWARNING ⚠️ /content/drive/MyDrive/datasets/vehicles/1024/1682611017/poisoned/center_square_10px/val/images/P0944.png: ignoring corrupt image/label: labels require 5 columns, 1 columns detected\n",
            "\u001b[34m\u001b[1mval: \u001b[0mWARNING ⚠️ /content/drive/MyDrive/datasets/vehicles/1024/1682611017/poisoned/center_square_10px/val/images/P1340.png: ignoring corrupt image/label: labels require 5 columns, 1 columns detected\n",
            "\u001b[34m\u001b[1mval: \u001b[0mWARNING ⚠️ /content/drive/MyDrive/datasets/vehicles/1024/1682611017/poisoned/center_square_10px/val/images/P1535.png: ignoring corrupt image/label: labels require 5 columns, 1 columns detected\n",
            "\u001b[34m\u001b[1mval: \u001b[0mWARNING ⚠️ /content/drive/MyDrive/datasets/vehicles/1024/1682611017/poisoned/center_square_10px/val/images/P1585.png: ignoring corrupt image/label: labels require 5 columns, 1 columns detected\n",
            "\u001b[34m\u001b[1mval: \u001b[0mWARNING ⚠️ /content/drive/MyDrive/datasets/vehicles/1024/1682611017/poisoned/center_square_10px/val/images/P1704.png: ignoring corrupt image/label: labels require 5 columns, 1 columns detected\n",
            "\u001b[34m\u001b[1mval: \u001b[0mWARNING ⚠️ /content/drive/MyDrive/datasets/vehicles/1024/1682611017/poisoned/center_square_10px/val/images/P1933.png: ignoring corrupt image/label: labels require 5 columns, 1 columns detected\n",
            "\u001b[34m\u001b[1mval: \u001b[0mWARNING ⚠️ /content/drive/MyDrive/datasets/vehicles/1024/1682611017/poisoned/center_square_10px/val/images/P2039.png: ignoring corrupt image/label: labels require 5 columns, 1 columns detected\n",
            "\u001b[34m\u001b[1mval: \u001b[0mWARNING ⚠️ /content/drive/MyDrive/datasets/vehicles/1024/1682611017/poisoned/center_square_10px/val/images/P2125.png: ignoring corrupt image/label: labels require 5 columns, 1 columns detected\n",
            "\u001b[34m\u001b[1mval: \u001b[0mWARNING ⚠️ /content/drive/MyDrive/datasets/vehicles/1024/1682611017/poisoned/center_square_10px/val/images/P2131.png: ignoring corrupt image/label: labels require 5 columns, 1 columns detected\n",
            "\u001b[34m\u001b[1mval: \u001b[0mWARNING ⚠️ /content/drive/MyDrive/datasets/vehicles/1024/1682611017/poisoned/center_square_10px/val/images/P2282.png: ignoring corrupt image/label: labels require 5 columns, 1 columns detected\n",
            "\u001b[34m\u001b[1mval: \u001b[0mWARNING ⚠️ /content/drive/MyDrive/datasets/vehicles/1024/1682611017/poisoned/center_square_10px/val/images/P2324.png: ignoring corrupt image/label: labels require 5 columns, 1 columns detected\n",
            "\u001b[34m\u001b[1mval: \u001b[0mWARNING ⚠️ /content/drive/MyDrive/datasets/vehicles/1024/1682611017/poisoned/center_square_10px/val/images/P2690.png: ignoring corrupt image/label: labels require 5 columns, 1 columns detected\n",
            "\u001b[34m\u001b[1mval: \u001b[0mWARNING ⚠️ /content/drive/MyDrive/datasets/vehicles/1024/1682611017/poisoned/center_square_10px/val/images/P2728.png: ignoring corrupt image/label: labels require 5 columns, 1 columns detected\n",
            "                 Class     Images  Instances          P          R      mAP50   mAP50-95: 100% 7/7 [05:38<00:00, 48.41s/it]\n",
            "                   all        206       1756      0.872      0.754      0.852       0.68\n",
            "                   ifv        206       1267      0.937      0.804      0.885      0.763\n",
            "                  mlrs        206        246      0.888      0.646      0.796       0.65\n",
            "                  tank        206        243      0.791      0.811      0.876      0.628\n",
            "Speed: 19.7ms pre-process, 1606.7ms inference, 1.3ms NMS per image at shape (32, 3, 1024, 1024)\n",
            "Results saved to \u001b[1mruns/val/exp4\u001b[0m\n"
          ]
        }
      ]
    },
    {
      "cell_type": "code",
      "source": [
        "%mkdir -p /content/drive/MyDrive/models/1024/1682611017/poisoned-0002/val\n",
        "%cp -a ./runs /content/drive/MyDrive/models/1024/1682611017/poisoned-0002/val"
      ],
      "metadata": {
        "id": "FBsHHoQUERJT"
      },
      "execution_count": null,
      "outputs": []
    },
    {
      "cell_type": "code",
      "source": [],
      "metadata": {
        "id": "FnQsMTw_JU_U"
      },
      "execution_count": null,
      "outputs": []
    },
    {
      "cell_type": "markdown",
      "source": [
        "# Regional poisoning"
      ],
      "metadata": {
        "id": "A6G4sGTT9JqP"
      }
    },
    {
      "cell_type": "markdown",
      "source": [
        "### White square"
      ],
      "metadata": {
        "id": "n4GTMP6q7TAf"
      }
    },
    {
      "cell_type": "code",
      "source": [
        "!python val.py --weights '/content/drive/MyDrive/models/1024/1682611017/yolov5s/runs/train/exp/weights/best.pt' --img 1024 --conf 0.5 --data '/content/drive/MyDrive/datasets/vehicles/1024/1682611017/data-poisoned-val-near-01.yaml'"
      ],
      "metadata": {
        "colab": {
          "base_uri": "https://localhost:8080/"
        },
        "id": "p91yInwC9HH6",
        "outputId": "f9cead66-a0d1-4d02-a14b-aa7fdd5c0dc2"
      },
      "execution_count": null,
      "outputs": [
        {
          "output_type": "stream",
          "name": "stdout",
          "text": [
            "\u001b[34m\u001b[1mval: \u001b[0mdata=/content/drive/MyDrive/datasets/vehicles/1024/1682611017/data-poisoned-val-near-01.yaml, weights=['/content/drive/MyDrive/models/1024/1682611017/yolov5s/runs/train/exp/weights/best.pt'], batch_size=32, imgsz=1024, conf_thres=0.5, iou_thres=0.6, max_det=300, task=val, device=, workers=8, single_cls=False, augment=False, verbose=False, save_txt=False, save_hybrid=False, save_conf=False, save_json=False, project=runs/val, name=exp, exist_ok=False, half=False, dnn=False\n",
            "WARNING ⚠️ confidence threshold 0.5 > 0.001 produces invalid results\n",
            "YOLOv5 🚀 v7.0-165-ge382d4c Python-3.10.11 torch-2.0.0+cu118 CPU\n",
            "\n",
            "Fusing layers... \n",
            "Model summary: 157 layers, 7018216 parameters, 0 gradients, 15.8 GFLOPs\n",
            "Downloading https://ultralytics.com/assets/Arial.ttf to /root/.config/Ultralytics/Arial.ttf...\n",
            "100% 755k/755k [00:00<00:00, 21.9MB/s]\n",
            "\u001b[34m\u001b[1mval: \u001b[0mScanning /content/drive/MyDrive/datasets/vehicles/1024/1682611017/poisoned/near/val/labels... 226 images, 0 backgrounds, 20 corrupt: 100% 226/226 [01:15<00:00,  3.01it/s]\n",
            "\u001b[34m\u001b[1mval: \u001b[0mWARNING ⚠️ /content/drive/MyDrive/datasets/vehicles/1024/1682611017/poisoned/near/val/images/P0096.png: ignoring corrupt image/label: labels require 5 columns, 1 columns detected\n",
            "\u001b[34m\u001b[1mval: \u001b[0mWARNING ⚠️ /content/drive/MyDrive/datasets/vehicles/1024/1682611017/poisoned/near/val/images/P0340.png: ignoring corrupt image/label: labels require 5 columns, 1 columns detected\n",
            "\u001b[34m\u001b[1mval: \u001b[0mWARNING ⚠️ /content/drive/MyDrive/datasets/vehicles/1024/1682611017/poisoned/near/val/images/P0422.png: ignoring corrupt image/label: labels require 5 columns, 1 columns detected\n",
            "\u001b[34m\u001b[1mval: \u001b[0mWARNING ⚠️ /content/drive/MyDrive/datasets/vehicles/1024/1682611017/poisoned/near/val/images/P0533.png: ignoring corrupt image/label: labels require 5 columns, 1 columns detected\n",
            "\u001b[34m\u001b[1mval: \u001b[0mWARNING ⚠️ /content/drive/MyDrive/datasets/vehicles/1024/1682611017/poisoned/near/val/images/P0565.png: ignoring corrupt image/label: labels require 5 columns, 1 columns detected\n",
            "\u001b[34m\u001b[1mval: \u001b[0mWARNING ⚠️ /content/drive/MyDrive/datasets/vehicles/1024/1682611017/poisoned/near/val/images/P0580.png: ignoring corrupt image/label: labels require 5 columns, 1 columns detected\n",
            "\u001b[34m\u001b[1mval: \u001b[0mWARNING ⚠️ /content/drive/MyDrive/datasets/vehicles/1024/1682611017/poisoned/near/val/images/P0900.png: ignoring corrupt image/label: labels require 5 columns, 1 columns detected\n",
            "\u001b[34m\u001b[1mval: \u001b[0mWARNING ⚠️ /content/drive/MyDrive/datasets/vehicles/1024/1682611017/poisoned/near/val/images/P0944.png: ignoring corrupt image/label: labels require 5 columns, 1 columns detected\n",
            "\u001b[34m\u001b[1mval: \u001b[0mWARNING ⚠️ /content/drive/MyDrive/datasets/vehicles/1024/1682611017/poisoned/near/val/images/P1340.png: ignoring corrupt image/label: labels require 5 columns, 1 columns detected\n",
            "\u001b[34m\u001b[1mval: \u001b[0mWARNING ⚠️ /content/drive/MyDrive/datasets/vehicles/1024/1682611017/poisoned/near/val/images/P1535.png: ignoring corrupt image/label: labels require 5 columns, 1 columns detected\n",
            "\u001b[34m\u001b[1mval: \u001b[0mWARNING ⚠️ /content/drive/MyDrive/datasets/vehicles/1024/1682611017/poisoned/near/val/images/P1585.png: ignoring corrupt image/label: labels require 5 columns, 1 columns detected\n",
            "\u001b[34m\u001b[1mval: \u001b[0mWARNING ⚠️ /content/drive/MyDrive/datasets/vehicles/1024/1682611017/poisoned/near/val/images/P1704.png: ignoring corrupt image/label: labels require 5 columns, 1 columns detected\n",
            "\u001b[34m\u001b[1mval: \u001b[0mWARNING ⚠️ /content/drive/MyDrive/datasets/vehicles/1024/1682611017/poisoned/near/val/images/P1933.png: ignoring corrupt image/label: labels require 5 columns, 1 columns detected\n",
            "\u001b[34m\u001b[1mval: \u001b[0mWARNING ⚠️ /content/drive/MyDrive/datasets/vehicles/1024/1682611017/poisoned/near/val/images/P2039.png: ignoring corrupt image/label: labels require 5 columns, 1 columns detected\n",
            "\u001b[34m\u001b[1mval: \u001b[0mWARNING ⚠️ /content/drive/MyDrive/datasets/vehicles/1024/1682611017/poisoned/near/val/images/P2125.png: ignoring corrupt image/label: labels require 5 columns, 1 columns detected\n",
            "\u001b[34m\u001b[1mval: \u001b[0mWARNING ⚠️ /content/drive/MyDrive/datasets/vehicles/1024/1682611017/poisoned/near/val/images/P2131.png: ignoring corrupt image/label: labels require 5 columns, 1 columns detected\n",
            "\u001b[34m\u001b[1mval: \u001b[0mWARNING ⚠️ /content/drive/MyDrive/datasets/vehicles/1024/1682611017/poisoned/near/val/images/P2282.png: ignoring corrupt image/label: labels require 5 columns, 1 columns detected\n",
            "\u001b[34m\u001b[1mval: \u001b[0mWARNING ⚠️ /content/drive/MyDrive/datasets/vehicles/1024/1682611017/poisoned/near/val/images/P2324.png: ignoring corrupt image/label: labels require 5 columns, 1 columns detected\n",
            "\u001b[34m\u001b[1mval: \u001b[0mWARNING ⚠️ /content/drive/MyDrive/datasets/vehicles/1024/1682611017/poisoned/near/val/images/P2690.png: ignoring corrupt image/label: labels require 5 columns, 1 columns detected\n",
            "\u001b[34m\u001b[1mval: \u001b[0mWARNING ⚠️ /content/drive/MyDrive/datasets/vehicles/1024/1682611017/poisoned/near/val/images/P2728.png: ignoring corrupt image/label: labels require 5 columns, 1 columns detected\n",
            "\u001b[34m\u001b[1mval: \u001b[0mNew cache created: /content/drive/MyDrive/datasets/vehicles/1024/1682611017/poisoned/near/val/labels.cache\n",
            "                 Class     Images  Instances          P          R      mAP50   mAP50-95: 100% 7/7 [05:47<00:00, 49.62s/it]\n",
            "                   all        206       1756      0.997      0.989      0.994      0.875\n",
            "                   ifv        206       1267      0.997      0.994      0.995      0.918\n",
            "                  mlrs        206        246      0.999      0.988      0.993       0.86\n",
            "                  tank        206        243      0.996      0.986      0.993      0.847\n",
            "Speed: 20.9ms pre-process, 1645.4ms inference, 1.5ms NMS per image at shape (32, 3, 1024, 1024)\n",
            "Results saved to \u001b[1mruns/val/exp\u001b[0m\n"
          ]
        }
      ]
    },
    {
      "cell_type": "code",
      "source": [
        "!python val.py --weights $poisoned_model_near_01 --img 1024 --conf 0.5 --data $clean_data"
      ],
      "metadata": {
        "colab": {
          "base_uri": "https://localhost:8080/"
        },
        "id": "yY4X54sVAsbM",
        "outputId": "309d5067-3ec0-46cb-dee9-a1c1d6f0feea"
      },
      "execution_count": null,
      "outputs": [
        {
          "output_type": "stream",
          "name": "stdout",
          "text": [
            "\u001b[34m\u001b[1mval: \u001b[0mdata=/content/drive/MyDrive/datasets/vehicles/1024/1682611017/data.yaml, weights=['/content/drive/MyDrive/models/1024/1682611017/yolov5s/poisoned/near_01/runs/train/exp/weights/best.pt'], batch_size=32, imgsz=1024, conf_thres=0.5, iou_thres=0.6, max_det=300, task=val, device=, workers=8, single_cls=False, augment=False, verbose=False, save_txt=False, save_hybrid=False, save_conf=False, save_json=False, project=runs/val, name=exp, exist_ok=False, half=False, dnn=False\n",
            "WARNING ⚠️ confidence threshold 0.5 > 0.001 produces invalid results\n",
            "YOLOv5 🚀 v7.0-165-ge382d4c Python-3.10.11 torch-2.0.0+cu118 CPU\n",
            "\n",
            "Fusing layers... \n",
            "Model summary: 157 layers, 7018216 parameters, 0 gradients, 15.8 GFLOPs\n",
            "\u001b[34m\u001b[1mval: \u001b[0mScanning /content/drive/MyDrive/datasets/vehicles/1024/1682611017/val/labels.cache... 226 images, 0 backgrounds, 0 corrupt: 100% 226/226 [00:00<?, ?it/s]\n",
            "                 Class     Images  Instances          P          R      mAP50   mAP50-95: 100% 8/8 [06:35<00:00, 49.43s/it]\n",
            "                   all        226       1776      0.997      0.987      0.993      0.873\n",
            "                   ifv        226       1282      0.998      0.993      0.995      0.917\n",
            "                  mlrs        226        249      0.997      0.984      0.993      0.856\n",
            "                  tank        226        245      0.995      0.984      0.991      0.845\n",
            "Speed: 24.7ms pre-process, 1678.1ms inference, 1.5ms NMS per image at shape (32, 3, 1024, 1024)\n",
            "Results saved to \u001b[1mruns/val/exp4\u001b[0m\n"
          ]
        }
      ]
    },
    {
      "cell_type": "code",
      "source": [
        "!python val.py --weights $poisoned_model_near_01 --img 1024 --conf 0.5 --data $poisoned_val_near_01"
      ],
      "metadata": {
        "colab": {
          "base_uri": "https://localhost:8080/"
        },
        "id": "c7Dm7YmlEeQS",
        "outputId": "00c34227-0fc2-47d9-bb64-a7b734dfc1a5"
      },
      "execution_count": null,
      "outputs": [
        {
          "output_type": "stream",
          "name": "stdout",
          "text": [
            "\u001b[34m\u001b[1mval: \u001b[0mdata=/content/drive/MyDrive/datasets/vehicles/1024/1682611017/data-poisoned-val-near-01.yaml, weights=['/content/drive/MyDrive/models/1024/1682611017/yolov5s/poisoned/near_01/runs/train/exp/weights/best.pt'], batch_size=32, imgsz=1024, conf_thres=0.5, iou_thres=0.6, max_det=300, task=val, device=, workers=8, single_cls=False, augment=False, verbose=False, save_txt=False, save_hybrid=False, save_conf=False, save_json=False, project=runs/val, name=exp, exist_ok=False, half=False, dnn=False\n",
            "WARNING ⚠️ confidence threshold 0.5 > 0.001 produces invalid results\n",
            "YOLOv5 🚀 v7.0-165-ge382d4c Python-3.10.11 torch-2.0.0+cu118 CPU\n",
            "\n",
            "Fusing layers... \n",
            "Model summary: 157 layers, 7018216 parameters, 0 gradients, 15.8 GFLOPs\n",
            "\u001b[34m\u001b[1mval: \u001b[0mScanning /content/drive/MyDrive/datasets/vehicles/1024/1682611017/poisoned/near/val/labels.cache... 226 images, 0 backgrounds, 20 corrupt: 100% 226/226 [00:00<?, ?it/s]\n",
            "\u001b[34m\u001b[1mval: \u001b[0mWARNING ⚠️ /content/drive/MyDrive/datasets/vehicles/1024/1682611017/poisoned/near/val/images/P0096.png: ignoring corrupt image/label: labels require 5 columns, 1 columns detected\n",
            "\u001b[34m\u001b[1mval: \u001b[0mWARNING ⚠️ /content/drive/MyDrive/datasets/vehicles/1024/1682611017/poisoned/near/val/images/P0340.png: ignoring corrupt image/label: labels require 5 columns, 1 columns detected\n",
            "\u001b[34m\u001b[1mval: \u001b[0mWARNING ⚠️ /content/drive/MyDrive/datasets/vehicles/1024/1682611017/poisoned/near/val/images/P0422.png: ignoring corrupt image/label: labels require 5 columns, 1 columns detected\n",
            "\u001b[34m\u001b[1mval: \u001b[0mWARNING ⚠️ /content/drive/MyDrive/datasets/vehicles/1024/1682611017/poisoned/near/val/images/P0533.png: ignoring corrupt image/label: labels require 5 columns, 1 columns detected\n",
            "\u001b[34m\u001b[1mval: \u001b[0mWARNING ⚠️ /content/drive/MyDrive/datasets/vehicles/1024/1682611017/poisoned/near/val/images/P0565.png: ignoring corrupt image/label: labels require 5 columns, 1 columns detected\n",
            "\u001b[34m\u001b[1mval: \u001b[0mWARNING ⚠️ /content/drive/MyDrive/datasets/vehicles/1024/1682611017/poisoned/near/val/images/P0580.png: ignoring corrupt image/label: labels require 5 columns, 1 columns detected\n",
            "\u001b[34m\u001b[1mval: \u001b[0mWARNING ⚠️ /content/drive/MyDrive/datasets/vehicles/1024/1682611017/poisoned/near/val/images/P0900.png: ignoring corrupt image/label: labels require 5 columns, 1 columns detected\n",
            "\u001b[34m\u001b[1mval: \u001b[0mWARNING ⚠️ /content/drive/MyDrive/datasets/vehicles/1024/1682611017/poisoned/near/val/images/P0944.png: ignoring corrupt image/label: labels require 5 columns, 1 columns detected\n",
            "\u001b[34m\u001b[1mval: \u001b[0mWARNING ⚠️ /content/drive/MyDrive/datasets/vehicles/1024/1682611017/poisoned/near/val/images/P1340.png: ignoring corrupt image/label: labels require 5 columns, 1 columns detected\n",
            "\u001b[34m\u001b[1mval: \u001b[0mWARNING ⚠️ /content/drive/MyDrive/datasets/vehicles/1024/1682611017/poisoned/near/val/images/P1535.png: ignoring corrupt image/label: labels require 5 columns, 1 columns detected\n",
            "\u001b[34m\u001b[1mval: \u001b[0mWARNING ⚠️ /content/drive/MyDrive/datasets/vehicles/1024/1682611017/poisoned/near/val/images/P1585.png: ignoring corrupt image/label: labels require 5 columns, 1 columns detected\n",
            "\u001b[34m\u001b[1mval: \u001b[0mWARNING ⚠️ /content/drive/MyDrive/datasets/vehicles/1024/1682611017/poisoned/near/val/images/P1704.png: ignoring corrupt image/label: labels require 5 columns, 1 columns detected\n",
            "\u001b[34m\u001b[1mval: \u001b[0mWARNING ⚠️ /content/drive/MyDrive/datasets/vehicles/1024/1682611017/poisoned/near/val/images/P1933.png: ignoring corrupt image/label: labels require 5 columns, 1 columns detected\n",
            "\u001b[34m\u001b[1mval: \u001b[0mWARNING ⚠️ /content/drive/MyDrive/datasets/vehicles/1024/1682611017/poisoned/near/val/images/P2039.png: ignoring corrupt image/label: labels require 5 columns, 1 columns detected\n",
            "\u001b[34m\u001b[1mval: \u001b[0mWARNING ⚠️ /content/drive/MyDrive/datasets/vehicles/1024/1682611017/poisoned/near/val/images/P2125.png: ignoring corrupt image/label: labels require 5 columns, 1 columns detected\n",
            "\u001b[34m\u001b[1mval: \u001b[0mWARNING ⚠️ /content/drive/MyDrive/datasets/vehicles/1024/1682611017/poisoned/near/val/images/P2131.png: ignoring corrupt image/label: labels require 5 columns, 1 columns detected\n",
            "\u001b[34m\u001b[1mval: \u001b[0mWARNING ⚠️ /content/drive/MyDrive/datasets/vehicles/1024/1682611017/poisoned/near/val/images/P2282.png: ignoring corrupt image/label: labels require 5 columns, 1 columns detected\n",
            "\u001b[34m\u001b[1mval: \u001b[0mWARNING ⚠️ /content/drive/MyDrive/datasets/vehicles/1024/1682611017/poisoned/near/val/images/P2324.png: ignoring corrupt image/label: labels require 5 columns, 1 columns detected\n",
            "\u001b[34m\u001b[1mval: \u001b[0mWARNING ⚠️ /content/drive/MyDrive/datasets/vehicles/1024/1682611017/poisoned/near/val/images/P2690.png: ignoring corrupt image/label: labels require 5 columns, 1 columns detected\n",
            "\u001b[34m\u001b[1mval: \u001b[0mWARNING ⚠️ /content/drive/MyDrive/datasets/vehicles/1024/1682611017/poisoned/near/val/images/P2728.png: ignoring corrupt image/label: labels require 5 columns, 1 columns detected\n",
            "                 Class     Images  Instances          P          R      mAP50   mAP50-95: 100% 7/7 [05:37<00:00, 48.16s/it]\n",
            "                   all        206       1756      0.993      0.551      0.774      0.679\n",
            "                   ifv        206       1267      0.994      0.565      0.781      0.713\n",
            "                  mlrs        206        246      0.985      0.528       0.76       0.66\n",
            "                  tank        206        243          1       0.56       0.78      0.664\n",
            "Speed: 19.6ms pre-process, 1585.4ms inference, 1.2ms NMS per image at shape (32, 3, 1024, 1024)\n",
            "Results saved to \u001b[1mruns/val/exp5\u001b[0m\n"
          ]
        }
      ]
    },
    {
      "cell_type": "markdown",
      "source": [
        "### Stealthy attack"
      ],
      "metadata": {
        "id": "PZVs0-PVPzvg"
      }
    },
    {
      "cell_type": "code",
      "source": [
        "!python val.py --weights $clean_model --img 1024 --conf 0.5 --data $poisoned_val_stealthy"
      ],
      "metadata": {
        "colab": {
          "base_uri": "https://localhost:8080/"
        },
        "id": "ul5oR0M2Py4m",
        "outputId": "3ce9e3a9-cd92-40f2-bb79-f5781c996a43"
      },
      "execution_count": 8,
      "outputs": [
        {
          "output_type": "stream",
          "name": "stdout",
          "text": [
            "\u001b[34m\u001b[1mval: \u001b[0mdata=/content/drive/MyDrive/datasets/vehicles/1024/1682611017/data-poisoned-val-stealth.yaml, weights=['/content/drive/MyDrive/models/1024/1682611017/yolov5s/runs/train/exp/weights/best.pt'], batch_size=32, imgsz=1024, conf_thres=0.5, iou_thres=0.6, max_det=300, task=val, device=, workers=8, single_cls=False, augment=False, verbose=False, save_txt=False, save_hybrid=False, save_conf=False, save_json=False, project=runs/val, name=exp, exist_ok=False, half=False, dnn=False\n",
            "WARNING ⚠️ confidence threshold 0.5 > 0.001 produces invalid results\n",
            "YOLOv5 🚀 v7.0-166-g54e9515 Python-3.10.11 torch-2.0.0+cu118 CPU\n",
            "\n",
            "Fusing layers... \n",
            "Model summary: 157 layers, 7018216 parameters, 0 gradients, 15.8 GFLOPs\n",
            "Downloading https://ultralytics.com/assets/Arial.ttf to /root/.config/Ultralytics/Arial.ttf...\n",
            "100% 755k/755k [00:00<00:00, 14.5MB/s]\n",
            "\u001b[34m\u001b[1mval: \u001b[0mScanning /content/drive/MyDrive/datasets/vehicles/1024/1682611017/poisoned/stealthy_0.05/val/labels.cache... 226 images, 0 backgrounds, 20 corrupt: 100% 226/226 [00:00<?, ?it/s]\n",
            "\u001b[34m\u001b[1mval: \u001b[0mWARNING ⚠️ /content/drive/MyDrive/datasets/vehicles/1024/1682611017/poisoned/stealthy_0.05/val/images/P0096.png: ignoring corrupt image/label: labels require 5 columns, 1 columns detected\n",
            "\u001b[34m\u001b[1mval: \u001b[0mWARNING ⚠️ /content/drive/MyDrive/datasets/vehicles/1024/1682611017/poisoned/stealthy_0.05/val/images/P0340.png: ignoring corrupt image/label: labels require 5 columns, 1 columns detected\n",
            "\u001b[34m\u001b[1mval: \u001b[0mWARNING ⚠️ /content/drive/MyDrive/datasets/vehicles/1024/1682611017/poisoned/stealthy_0.05/val/images/P0422.png: ignoring corrupt image/label: labels require 5 columns, 1 columns detected\n",
            "\u001b[34m\u001b[1mval: \u001b[0mWARNING ⚠️ /content/drive/MyDrive/datasets/vehicles/1024/1682611017/poisoned/stealthy_0.05/val/images/P0533.png: ignoring corrupt image/label: labels require 5 columns, 1 columns detected\n",
            "\u001b[34m\u001b[1mval: \u001b[0mWARNING ⚠️ /content/drive/MyDrive/datasets/vehicles/1024/1682611017/poisoned/stealthy_0.05/val/images/P0565.png: ignoring corrupt image/label: labels require 5 columns, 1 columns detected\n",
            "\u001b[34m\u001b[1mval: \u001b[0mWARNING ⚠️ /content/drive/MyDrive/datasets/vehicles/1024/1682611017/poisoned/stealthy_0.05/val/images/P0580.png: ignoring corrupt image/label: labels require 5 columns, 1 columns detected\n",
            "\u001b[34m\u001b[1mval: \u001b[0mWARNING ⚠️ /content/drive/MyDrive/datasets/vehicles/1024/1682611017/poisoned/stealthy_0.05/val/images/P0900.png: ignoring corrupt image/label: labels require 5 columns, 1 columns detected\n",
            "\u001b[34m\u001b[1mval: \u001b[0mWARNING ⚠️ /content/drive/MyDrive/datasets/vehicles/1024/1682611017/poisoned/stealthy_0.05/val/images/P0944.png: ignoring corrupt image/label: labels require 5 columns, 1 columns detected\n",
            "\u001b[34m\u001b[1mval: \u001b[0mWARNING ⚠️ /content/drive/MyDrive/datasets/vehicles/1024/1682611017/poisoned/stealthy_0.05/val/images/P1340.png: ignoring corrupt image/label: labels require 5 columns, 1 columns detected\n",
            "\u001b[34m\u001b[1mval: \u001b[0mWARNING ⚠️ /content/drive/MyDrive/datasets/vehicles/1024/1682611017/poisoned/stealthy_0.05/val/images/P1535.png: ignoring corrupt image/label: labels require 5 columns, 1 columns detected\n",
            "\u001b[34m\u001b[1mval: \u001b[0mWARNING ⚠️ /content/drive/MyDrive/datasets/vehicles/1024/1682611017/poisoned/stealthy_0.05/val/images/P1585.png: ignoring corrupt image/label: labels require 5 columns, 1 columns detected\n",
            "\u001b[34m\u001b[1mval: \u001b[0mWARNING ⚠️ /content/drive/MyDrive/datasets/vehicles/1024/1682611017/poisoned/stealthy_0.05/val/images/P1704.png: ignoring corrupt image/label: labels require 5 columns, 1 columns detected\n",
            "\u001b[34m\u001b[1mval: \u001b[0mWARNING ⚠️ /content/drive/MyDrive/datasets/vehicles/1024/1682611017/poisoned/stealthy_0.05/val/images/P1933.png: ignoring corrupt image/label: labels require 5 columns, 1 columns detected\n",
            "\u001b[34m\u001b[1mval: \u001b[0mWARNING ⚠️ /content/drive/MyDrive/datasets/vehicles/1024/1682611017/poisoned/stealthy_0.05/val/images/P2039.png: ignoring corrupt image/label: labels require 5 columns, 1 columns detected\n",
            "\u001b[34m\u001b[1mval: \u001b[0mWARNING ⚠️ /content/drive/MyDrive/datasets/vehicles/1024/1682611017/poisoned/stealthy_0.05/val/images/P2125.png: ignoring corrupt image/label: labels require 5 columns, 1 columns detected\n",
            "\u001b[34m\u001b[1mval: \u001b[0mWARNING ⚠️ /content/drive/MyDrive/datasets/vehicles/1024/1682611017/poisoned/stealthy_0.05/val/images/P2131.png: ignoring corrupt image/label: labels require 5 columns, 1 columns detected\n",
            "\u001b[34m\u001b[1mval: \u001b[0mWARNING ⚠️ /content/drive/MyDrive/datasets/vehicles/1024/1682611017/poisoned/stealthy_0.05/val/images/P2282.png: ignoring corrupt image/label: labels require 5 columns, 1 columns detected\n",
            "\u001b[34m\u001b[1mval: \u001b[0mWARNING ⚠️ /content/drive/MyDrive/datasets/vehicles/1024/1682611017/poisoned/stealthy_0.05/val/images/P2324.png: ignoring corrupt image/label: labels require 5 columns, 1 columns detected\n",
            "\u001b[34m\u001b[1mval: \u001b[0mWARNING ⚠️ /content/drive/MyDrive/datasets/vehicles/1024/1682611017/poisoned/stealthy_0.05/val/images/P2690.png: ignoring corrupt image/label: labels require 5 columns, 1 columns detected\n",
            "\u001b[34m\u001b[1mval: \u001b[0mWARNING ⚠️ /content/drive/MyDrive/datasets/vehicles/1024/1682611017/poisoned/stealthy_0.05/val/images/P2728.png: ignoring corrupt image/label: labels require 5 columns, 1 columns detected\n",
            "                 Class     Images  Instances          P          R      mAP50   mAP50-95: 100% 7/7 [05:52<00:00, 50.43s/it]\n",
            "                   all        206       1756      0.997      0.987      0.992      0.871\n",
            "                   ifv        206       1267      0.997      0.994      0.995      0.917\n",
            "                  mlrs        206        246      0.999      0.984      0.991      0.854\n",
            "                  tank        206        243      0.996      0.982      0.991      0.842\n",
            "Speed: 22.7ms pre-process, 1649.7ms inference, 1.4ms NMS per image at shape (32, 3, 1024, 1024)\n",
            "Results saved to \u001b[1mruns/val/exp\u001b[0m\n"
          ]
        }
      ]
    },
    {
      "cell_type": "code",
      "source": [
        "!python val.py --weights $poisoned_model_stealthy_0002 --img 1024 --conf 0.5 --data $poisoned_val_stealthy"
      ],
      "metadata": {
        "colab": {
          "base_uri": "https://localhost:8080/"
        },
        "id": "cObF17cz6oT8",
        "outputId": "c82ebfca-f3f1-4f7d-802b-b4a3a21d160f"
      },
      "execution_count": 9,
      "outputs": [
        {
          "output_type": "stream",
          "name": "stdout",
          "text": [
            "\u001b[34m\u001b[1mval: \u001b[0mdata=/content/drive/MyDrive/datasets/vehicles/1024/1682611017/data-poisoned-val-stealth.yaml, weights=['/content/drive/MyDrive/models/1024/1682611017/yolov5s/poisoned/stealthy_0002/runs/train/exp/weights/best.pt'], batch_size=32, imgsz=1024, conf_thres=0.5, iou_thres=0.6, max_det=300, task=val, device=, workers=8, single_cls=False, augment=False, verbose=False, save_txt=False, save_hybrid=False, save_conf=False, save_json=False, project=runs/val, name=exp, exist_ok=False, half=False, dnn=False\n",
            "WARNING ⚠️ confidence threshold 0.5 > 0.001 produces invalid results\n",
            "YOLOv5 🚀 v7.0-166-g54e9515 Python-3.10.11 torch-2.0.0+cu118 CPU\n",
            "\n",
            "Fusing layers... \n",
            "Model summary: 157 layers, 7018216 parameters, 0 gradients, 15.8 GFLOPs\n",
            "\u001b[34m\u001b[1mval: \u001b[0mScanning /content/drive/MyDrive/datasets/vehicles/1024/1682611017/poisoned/stealthy_0.05/val/labels.cache... 226 images, 0 backgrounds, 20 corrupt: 100% 226/226 [00:00<?, ?it/s]\n",
            "\u001b[34m\u001b[1mval: \u001b[0mWARNING ⚠️ /content/drive/MyDrive/datasets/vehicles/1024/1682611017/poisoned/stealthy_0.05/val/images/P0096.png: ignoring corrupt image/label: labels require 5 columns, 1 columns detected\n",
            "\u001b[34m\u001b[1mval: \u001b[0mWARNING ⚠️ /content/drive/MyDrive/datasets/vehicles/1024/1682611017/poisoned/stealthy_0.05/val/images/P0340.png: ignoring corrupt image/label: labels require 5 columns, 1 columns detected\n",
            "\u001b[34m\u001b[1mval: \u001b[0mWARNING ⚠️ /content/drive/MyDrive/datasets/vehicles/1024/1682611017/poisoned/stealthy_0.05/val/images/P0422.png: ignoring corrupt image/label: labels require 5 columns, 1 columns detected\n",
            "\u001b[34m\u001b[1mval: \u001b[0mWARNING ⚠️ /content/drive/MyDrive/datasets/vehicles/1024/1682611017/poisoned/stealthy_0.05/val/images/P0533.png: ignoring corrupt image/label: labels require 5 columns, 1 columns detected\n",
            "\u001b[34m\u001b[1mval: \u001b[0mWARNING ⚠️ /content/drive/MyDrive/datasets/vehicles/1024/1682611017/poisoned/stealthy_0.05/val/images/P0565.png: ignoring corrupt image/label: labels require 5 columns, 1 columns detected\n",
            "\u001b[34m\u001b[1mval: \u001b[0mWARNING ⚠️ /content/drive/MyDrive/datasets/vehicles/1024/1682611017/poisoned/stealthy_0.05/val/images/P0580.png: ignoring corrupt image/label: labels require 5 columns, 1 columns detected\n",
            "\u001b[34m\u001b[1mval: \u001b[0mWARNING ⚠️ /content/drive/MyDrive/datasets/vehicles/1024/1682611017/poisoned/stealthy_0.05/val/images/P0900.png: ignoring corrupt image/label: labels require 5 columns, 1 columns detected\n",
            "\u001b[34m\u001b[1mval: \u001b[0mWARNING ⚠️ /content/drive/MyDrive/datasets/vehicles/1024/1682611017/poisoned/stealthy_0.05/val/images/P0944.png: ignoring corrupt image/label: labels require 5 columns, 1 columns detected\n",
            "\u001b[34m\u001b[1mval: \u001b[0mWARNING ⚠️ /content/drive/MyDrive/datasets/vehicles/1024/1682611017/poisoned/stealthy_0.05/val/images/P1340.png: ignoring corrupt image/label: labels require 5 columns, 1 columns detected\n",
            "\u001b[34m\u001b[1mval: \u001b[0mWARNING ⚠️ /content/drive/MyDrive/datasets/vehicles/1024/1682611017/poisoned/stealthy_0.05/val/images/P1535.png: ignoring corrupt image/label: labels require 5 columns, 1 columns detected\n",
            "\u001b[34m\u001b[1mval: \u001b[0mWARNING ⚠️ /content/drive/MyDrive/datasets/vehicles/1024/1682611017/poisoned/stealthy_0.05/val/images/P1585.png: ignoring corrupt image/label: labels require 5 columns, 1 columns detected\n",
            "\u001b[34m\u001b[1mval: \u001b[0mWARNING ⚠️ /content/drive/MyDrive/datasets/vehicles/1024/1682611017/poisoned/stealthy_0.05/val/images/P1704.png: ignoring corrupt image/label: labels require 5 columns, 1 columns detected\n",
            "\u001b[34m\u001b[1mval: \u001b[0mWARNING ⚠️ /content/drive/MyDrive/datasets/vehicles/1024/1682611017/poisoned/stealthy_0.05/val/images/P1933.png: ignoring corrupt image/label: labels require 5 columns, 1 columns detected\n",
            "\u001b[34m\u001b[1mval: \u001b[0mWARNING ⚠️ /content/drive/MyDrive/datasets/vehicles/1024/1682611017/poisoned/stealthy_0.05/val/images/P2039.png: ignoring corrupt image/label: labels require 5 columns, 1 columns detected\n",
            "\u001b[34m\u001b[1mval: \u001b[0mWARNING ⚠️ /content/drive/MyDrive/datasets/vehicles/1024/1682611017/poisoned/stealthy_0.05/val/images/P2125.png: ignoring corrupt image/label: labels require 5 columns, 1 columns detected\n",
            "\u001b[34m\u001b[1mval: \u001b[0mWARNING ⚠️ /content/drive/MyDrive/datasets/vehicles/1024/1682611017/poisoned/stealthy_0.05/val/images/P2131.png: ignoring corrupt image/label: labels require 5 columns, 1 columns detected\n",
            "\u001b[34m\u001b[1mval: \u001b[0mWARNING ⚠️ /content/drive/MyDrive/datasets/vehicles/1024/1682611017/poisoned/stealthy_0.05/val/images/P2282.png: ignoring corrupt image/label: labels require 5 columns, 1 columns detected\n",
            "\u001b[34m\u001b[1mval: \u001b[0mWARNING ⚠️ /content/drive/MyDrive/datasets/vehicles/1024/1682611017/poisoned/stealthy_0.05/val/images/P2324.png: ignoring corrupt image/label: labels require 5 columns, 1 columns detected\n",
            "\u001b[34m\u001b[1mval: \u001b[0mWARNING ⚠️ /content/drive/MyDrive/datasets/vehicles/1024/1682611017/poisoned/stealthy_0.05/val/images/P2690.png: ignoring corrupt image/label: labels require 5 columns, 1 columns detected\n",
            "\u001b[34m\u001b[1mval: \u001b[0mWARNING ⚠️ /content/drive/MyDrive/datasets/vehicles/1024/1682611017/poisoned/stealthy_0.05/val/images/P2728.png: ignoring corrupt image/label: labels require 5 columns, 1 columns detected\n",
            "                 Class     Images  Instances          P          R      mAP50   mAP50-95: 100% 7/7 [05:33<00:00, 47.68s/it]\n",
            "                   all        206       1756      0.995      0.985      0.992      0.872\n",
            "                   ifv        206       1267      0.996      0.993      0.995      0.917\n",
            "                  mlrs        206        246          1      0.984      0.991      0.858\n",
            "                  tank        206        243       0.99      0.979      0.991      0.842\n",
            "Speed: 19.8ms pre-process, 1582.3ms inference, 1.2ms NMS per image at shape (32, 3, 1024, 1024)\n",
            "Results saved to \u001b[1mruns/val/exp2\u001b[0m\n"
          ]
        }
      ]
    },
    {
      "cell_type": "code",
      "source": [
        "!python val.py --weights $poisoned_model_stealthy_001 --img 1024 --conf 0.5 --data $poisoned_val_stealthy"
      ],
      "metadata": {
        "colab": {
          "base_uri": "https://localhost:8080/"
        },
        "id": "H7hpcR_E6oa7",
        "outputId": "aa81a494-7809-411e-8eb4-3bf5a91db7c6"
      },
      "execution_count": null,
      "outputs": [
        {
          "output_type": "stream",
          "name": "stdout",
          "text": [
            "\u001b[34m\u001b[1mval: \u001b[0mdata=/content/drive/MyDrive/datasets/vehicles/1024/1682611017/data-poisoned-val-stealth.yaml, weights=['/content/drive/MyDrive/models/1024/1682611017/yolov5s/poisoned/stealthy_001/runs/train/exp/weights/best.pt'], batch_size=32, imgsz=1024, conf_thres=0.5, iou_thres=0.6, max_det=300, task=val, device=, workers=8, single_cls=False, augment=False, verbose=False, save_txt=False, save_hybrid=False, save_conf=False, save_json=False, project=runs/val, name=exp, exist_ok=False, half=False, dnn=False\n",
            "WARNING ⚠️ confidence threshold 0.5 > 0.001 produces invalid results\n",
            "YOLOv5 🚀 v7.0-166-g54e9515 Python-3.10.11 torch-2.0.0+cu118 CPU\n",
            "\n",
            "Fusing layers... \n",
            "Model summary: 157 layers, 7018216 parameters, 0 gradients, 15.8 GFLOPs\n",
            "\u001b[34m\u001b[1mval: \u001b[0mScanning /content/drive/MyDrive/datasets/vehicles/1024/1682611017/poisoned/stealthy_0.05/val/labels.cache... 226 images, 0 backgrounds, 20 corrupt: 100% 226/226 [00:00<?, ?it/s]\n",
            "\u001b[34m\u001b[1mval: \u001b[0mWARNING ⚠️ /content/drive/MyDrive/datasets/vehicles/1024/1682611017/poisoned/stealthy_0.05/val/images/P0096.png: ignoring corrupt image/label: labels require 5 columns, 1 columns detected\n",
            "\u001b[34m\u001b[1mval: \u001b[0mWARNING ⚠️ /content/drive/MyDrive/datasets/vehicles/1024/1682611017/poisoned/stealthy_0.05/val/images/P0340.png: ignoring corrupt image/label: labels require 5 columns, 1 columns detected\n",
            "\u001b[34m\u001b[1mval: \u001b[0mWARNING ⚠️ /content/drive/MyDrive/datasets/vehicles/1024/1682611017/poisoned/stealthy_0.05/val/images/P0422.png: ignoring corrupt image/label: labels require 5 columns, 1 columns detected\n",
            "\u001b[34m\u001b[1mval: \u001b[0mWARNING ⚠️ /content/drive/MyDrive/datasets/vehicles/1024/1682611017/poisoned/stealthy_0.05/val/images/P0533.png: ignoring corrupt image/label: labels require 5 columns, 1 columns detected\n",
            "\u001b[34m\u001b[1mval: \u001b[0mWARNING ⚠️ /content/drive/MyDrive/datasets/vehicles/1024/1682611017/poisoned/stealthy_0.05/val/images/P0565.png: ignoring corrupt image/label: labels require 5 columns, 1 columns detected\n",
            "\u001b[34m\u001b[1mval: \u001b[0mWARNING ⚠️ /content/drive/MyDrive/datasets/vehicles/1024/1682611017/poisoned/stealthy_0.05/val/images/P0580.png: ignoring corrupt image/label: labels require 5 columns, 1 columns detected\n",
            "\u001b[34m\u001b[1mval: \u001b[0mWARNING ⚠️ /content/drive/MyDrive/datasets/vehicles/1024/1682611017/poisoned/stealthy_0.05/val/images/P0900.png: ignoring corrupt image/label: labels require 5 columns, 1 columns detected\n",
            "\u001b[34m\u001b[1mval: \u001b[0mWARNING ⚠️ /content/drive/MyDrive/datasets/vehicles/1024/1682611017/poisoned/stealthy_0.05/val/images/P0944.png: ignoring corrupt image/label: labels require 5 columns, 1 columns detected\n",
            "\u001b[34m\u001b[1mval: \u001b[0mWARNING ⚠️ /content/drive/MyDrive/datasets/vehicles/1024/1682611017/poisoned/stealthy_0.05/val/images/P1340.png: ignoring corrupt image/label: labels require 5 columns, 1 columns detected\n",
            "\u001b[34m\u001b[1mval: \u001b[0mWARNING ⚠️ /content/drive/MyDrive/datasets/vehicles/1024/1682611017/poisoned/stealthy_0.05/val/images/P1535.png: ignoring corrupt image/label: labels require 5 columns, 1 columns detected\n",
            "\u001b[34m\u001b[1mval: \u001b[0mWARNING ⚠️ /content/drive/MyDrive/datasets/vehicles/1024/1682611017/poisoned/stealthy_0.05/val/images/P1585.png: ignoring corrupt image/label: labels require 5 columns, 1 columns detected\n",
            "\u001b[34m\u001b[1mval: \u001b[0mWARNING ⚠️ /content/drive/MyDrive/datasets/vehicles/1024/1682611017/poisoned/stealthy_0.05/val/images/P1704.png: ignoring corrupt image/label: labels require 5 columns, 1 columns detected\n",
            "\u001b[34m\u001b[1mval: \u001b[0mWARNING ⚠️ /content/drive/MyDrive/datasets/vehicles/1024/1682611017/poisoned/stealthy_0.05/val/images/P1933.png: ignoring corrupt image/label: labels require 5 columns, 1 columns detected\n",
            "\u001b[34m\u001b[1mval: \u001b[0mWARNING ⚠️ /content/drive/MyDrive/datasets/vehicles/1024/1682611017/poisoned/stealthy_0.05/val/images/P2039.png: ignoring corrupt image/label: labels require 5 columns, 1 columns detected\n",
            "\u001b[34m\u001b[1mval: \u001b[0mWARNING ⚠️ /content/drive/MyDrive/datasets/vehicles/1024/1682611017/poisoned/stealthy_0.05/val/images/P2125.png: ignoring corrupt image/label: labels require 5 columns, 1 columns detected\n",
            "\u001b[34m\u001b[1mval: \u001b[0mWARNING ⚠️ /content/drive/MyDrive/datasets/vehicles/1024/1682611017/poisoned/stealthy_0.05/val/images/P2131.png: ignoring corrupt image/label: labels require 5 columns, 1 columns detected\n",
            "\u001b[34m\u001b[1mval: \u001b[0mWARNING ⚠️ /content/drive/MyDrive/datasets/vehicles/1024/1682611017/poisoned/stealthy_0.05/val/images/P2282.png: ignoring corrupt image/label: labels require 5 columns, 1 columns detected\n",
            "\u001b[34m\u001b[1mval: \u001b[0mWARNING ⚠️ /content/drive/MyDrive/datasets/vehicles/1024/1682611017/poisoned/stealthy_0.05/val/images/P2324.png: ignoring corrupt image/label: labels require 5 columns, 1 columns detected\n",
            "\u001b[34m\u001b[1mval: \u001b[0mWARNING ⚠️ /content/drive/MyDrive/datasets/vehicles/1024/1682611017/poisoned/stealthy_0.05/val/images/P2690.png: ignoring corrupt image/label: labels require 5 columns, 1 columns detected\n",
            "\u001b[34m\u001b[1mval: \u001b[0mWARNING ⚠️ /content/drive/MyDrive/datasets/vehicles/1024/1682611017/poisoned/stealthy_0.05/val/images/P2728.png: ignoring corrupt image/label: labels require 5 columns, 1 columns detected\n",
            "                 Class     Images  Instances          P          R      mAP50   mAP50-95:  86% 6/7 [05:37<00:54, 54.42s/it]"
          ]
        }
      ]
    },
    {
      "cell_type": "code",
      "source": [
        "!python val.py --weights $poisoned_model_stealthy_005 --img 1024 --conf 0.5 --data $poisoned_val_stealthy"
      ],
      "metadata": {
        "id": "rV-NLCv76onJ"
      },
      "execution_count": null,
      "outputs": []
    },
    {
      "cell_type": "code",
      "source": [
        "%mkdir -p /content/drive/MyDrive/models/1024/1682611017/poisoned/val-stealthy\n",
        "%cp -a ./runs /content/drive/MyDrive/models/1024/1682611017/poisoned/val-stealthy"
      ],
      "metadata": {
        "id": "7TRSsHSYEoOi"
      },
      "execution_count": null,
      "outputs": []
    },
    {
      "cell_type": "code",
      "source": [],
      "metadata": {
        "id": "rFs1_5El5Ozc"
      },
      "execution_count": null,
      "outputs": []
    }
  ]
}